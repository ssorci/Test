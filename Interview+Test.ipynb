{
 "cells": [
  {
   "cell_type": "markdown",
   "metadata": {},
   "source": [
    "# CD Purchase Behavior Prediction Models "
   ]
  },
  {
   "cell_type": "markdown",
   "metadata": {},
   "source": [
    "This study is to build a CD purchase behavior prodiction model to help the agents to decide whether to contact a customer who has the possibility to buy a CD. A training data and a test data are collected. The training data contains a set of candidate prodictors, which consists of both numerica and categorial data. Our goal is to sellect the best prodiction model out of several candidate models, such linear regression (additive model), support vector machines (with different kernels) and the lasso model. The framework mainly consists of 3 steps. Step 1: varaible selection (find the best subset of predictors); Step 2: Model assessment (run different models and compare their fitting and prediction performances); Step 3: Use cross-validation to select the best model (or tunning parameter). \n",
    "\n",
    "Our work is committed and posted at Jupyter, with coding in R. We first download the entire data set \"Archive.zip\" to a temp file, unzip them and read them in R."
   ]
  },
  {
   "cell_type": "code",
   "execution_count": 1,
   "metadata": {},
   "outputs": [
    {
     "name": "stderr",
     "output_type": "stream",
     "text": [
      "Warning message:\n",
      "\"package 'googledrive' was built under R version 3.4.3\""
     ]
    }
   ],
   "source": [
    "library(googledrive)"
   ]
  },
  {
   "cell_type": "code",
   "execution_count": 2,
   "metadata": {
    "collapsed": true
   },
   "outputs": [],
   "source": [
    "temp <- tempfile(fileext = \".zip\")"
   ]
  },
  {
   "cell_type": "code",
   "execution_count": 3,
   "metadata": {
    "scrolled": true
   },
   "outputs": [
    {
     "name": "stderr",
     "output_type": "stream",
     "text": [
      "Waiting for authentication in browser...\n",
      "Press Esc/Ctrl + C to abort\n",
      "Please point your browser to the following url: \n",
      "https://accounts.google.com/o/oauth2/auth?client_id=603366585132-nku3fbd298ma3925l12o2hq0cc1v8u11.apps.googleusercontent.com&scope=https%3A%2F%2Fwww.googleapis.com%2Fauth%2Fdrive&redirect_uri=http%3A%2F%2Flocalhost%3A1410%2F&response_type=code&state=DnjXqWNKp9\n",
      "Authentication complete.\n",
      "File downloaded:\n",
      "  * Archive.zip\n",
      "Saved locally as:\n",
      "  * C:\\Users\\ssorc\\AppData\\Local\\Temp\\RtmpOGL126\\file3eb450956389.zip\n"
     ]
    }
   ],
   "source": [
    "dl <- drive_download(as_id(\"1AiZda_1-2nwrxI8fLD0Y6e5rTg7aocv0\"), path = temp, overwrite = TRUE)"
   ]
  },
  {
   "cell_type": "code",
   "execution_count": 12,
   "metadata": {
    "collapsed": true
   },
   "outputs": [],
   "source": [
    "out <- unzip(temp, exdir = tempdir())"
   ]
  },
  {
   "cell_type": "markdown",
   "metadata": {},
   "source": [
    "The test dataset is called \"bank\"."
   ]
  },
  {
   "cell_type": "code",
   "execution_count": 13,
   "metadata": {
    "collapsed": true
   },
   "outputs": [],
   "source": [
    "bank <- read.csv(out[14], sep = \";\", head = TRUE)\n",
    "# test data\n"
   ]
  },
  {
   "cell_type": "markdown",
   "metadata": {},
   "source": [
    "The training dataset is called \"bank.full\"."
   ]
  },
  {
   "cell_type": "code",
   "execution_count": 14,
   "metadata": {
    "collapsed": true
   },
   "outputs": [],
   "source": [
    "bank.full <- read.csv(out[12], sep = \";\", head = TRUE)\n",
    "# training data"
   ]
  },
  {
   "cell_type": "markdown",
   "metadata": {},
   "source": [
    "We clean the raw datasets. namely, we check if there is missing data, denoted by \"NA\". If yes we omit the corresponding rows. "
   ]
  },
  {
   "cell_type": "code",
   "execution_count": 15,
   "metadata": {},
   "outputs": [],
   "source": [
    "library(ISLR)"
   ]
  },
  {
   "cell_type": "code",
   "execution_count": 9,
   "metadata": {},
   "outputs": [
    {
     "data": {
      "text/html": [
       "<ol class=list-inline>\n",
       "\t<li>'age'</li>\n",
       "\t<li>'job'</li>\n",
       "\t<li>'marital'</li>\n",
       "\t<li>'education'</li>\n",
       "\t<li>'default'</li>\n",
       "\t<li>'housing'</li>\n",
       "\t<li>'loan'</li>\n",
       "\t<li>'contact'</li>\n",
       "\t<li>'month'</li>\n",
       "\t<li>'day_of_week'</li>\n",
       "\t<li>'duration'</li>\n",
       "\t<li>'campaign'</li>\n",
       "\t<li>'pdays'</li>\n",
       "\t<li>'previous'</li>\n",
       "\t<li>'poutcome'</li>\n",
       "\t<li>'emp.var.rate'</li>\n",
       "\t<li>'cons.price.idx'</li>\n",
       "\t<li>'cons.conf.idx'</li>\n",
       "\t<li>'euribor3m'</li>\n",
       "\t<li>'nr.employed'</li>\n",
       "\t<li>'y'</li>\n",
       "</ol>\n"
      ],
      "text/latex": [
       "\\begin{enumerate*}\n",
       "\\item 'age'\n",
       "\\item 'job'\n",
       "\\item 'marital'\n",
       "\\item 'education'\n",
       "\\item 'default'\n",
       "\\item 'housing'\n",
       "\\item 'loan'\n",
       "\\item 'contact'\n",
       "\\item 'month'\n",
       "\\item 'day\\_of\\_week'\n",
       "\\item 'duration'\n",
       "\\item 'campaign'\n",
       "\\item 'pdays'\n",
       "\\item 'previous'\n",
       "\\item 'poutcome'\n",
       "\\item 'emp.var.rate'\n",
       "\\item 'cons.price.idx'\n",
       "\\item 'cons.conf.idx'\n",
       "\\item 'euribor3m'\n",
       "\\item 'nr.employed'\n",
       "\\item 'y'\n",
       "\\end{enumerate*}\n"
      ],
      "text/markdown": [
       "1. 'age'\n",
       "2. 'job'\n",
       "3. 'marital'\n",
       "4. 'education'\n",
       "5. 'default'\n",
       "6. 'housing'\n",
       "7. 'loan'\n",
       "8. 'contact'\n",
       "9. 'month'\n",
       "10. 'day_of_week'\n",
       "11. 'duration'\n",
       "12. 'campaign'\n",
       "13. 'pdays'\n",
       "14. 'previous'\n",
       "15. 'poutcome'\n",
       "16. 'emp.var.rate'\n",
       "17. 'cons.price.idx'\n",
       "18. 'cons.conf.idx'\n",
       "19. 'euribor3m'\n",
       "20. 'nr.employed'\n",
       "21. 'y'\n",
       "\n",
       "\n"
      ],
      "text/plain": [
       " [1] \"age\"            \"job\"            \"marital\"        \"education\"     \n",
       " [5] \"default\"        \"housing\"        \"loan\"           \"contact\"       \n",
       " [9] \"month\"          \"day_of_week\"    \"duration\"       \"campaign\"      \n",
       "[13] \"pdays\"          \"previous\"       \"poutcome\"       \"emp.var.rate\"  \n",
       "[17] \"cons.price.idx\" \"cons.conf.idx\"  \"euribor3m\"      \"nr.employed\"   \n",
       "[21] \"y\"             "
      ]
     },
     "metadata": {},
     "output_type": "display_data"
    }
   ],
   "source": [
    "names(bank)"
   ]
  },
  {
   "cell_type": "code",
   "execution_count": 10,
   "metadata": {},
   "outputs": [
    {
     "data": {
      "text/html": [
       "0"
      ],
      "text/latex": [
       "0"
      ],
      "text/markdown": [
       "0"
      ],
      "text/plain": [
       "[1] 0"
      ]
     },
     "metadata": {},
     "output_type": "display_data"
    }
   ],
   "source": [
    "sum(is.na(bank))\n",
    "# Check the data set. There is no missing data."
   ]
  },
  {
   "cell_type": "code",
   "execution_count": 11,
   "metadata": {},
   "outputs": [
    {
     "data": {
      "text/html": [
       "0"
      ],
      "text/latex": [
       "0"
      ],
      "text/markdown": [
       "0"
      ],
      "text/plain": [
       "[1] 0"
      ]
     },
     "metadata": {},
     "output_type": "display_data"
    }
   ],
   "source": [
    "sum(is.na(bank.full))"
   ]
  },
  {
   "cell_type": "markdown",
   "metadata": {},
   "source": [
    "## Question 2: which features are more likely to lead to CD purchase?\n",
    "\n",
    "In machine learning, this is regarded to be a subset predictors selection  problem. A classical method is called subset selection method. The approach consists of best subset selection, forwward stepwise selection and backward stepwise selection. Here due to the large volume of our training data, we select the forward stepwise selection to have a better program running speed. "
   ]
  },
  {
   "cell_type": "markdown",
   "metadata": {},
   "source": [
    "**Step 1: Forward stepwise subset selection**"
   ]
  },
  {
   "cell_type": "markdown",
   "metadata": {},
   "source": [
    "The R package \"leaps\" is needed."
   ]
  },
  {
   "cell_type": "code",
   "execution_count": 17,
   "metadata": {},
   "outputs": [],
   "source": [
    "library(leaps)"
   ]
  },
  {
   "cell_type": "markdown",
   "metadata": {},
   "source": [
    "Run the forward stepwise selection. By using a classic multiple linear regression, we found that the two features \"loan\" and \"housing\" are highly correlated. Then we run twice the selection model: one is to exclude \"loan\", the other is to exclude \"housing\"."
   ]
  },
  {
   "cell_type": "markdown",
   "metadata": {},
   "source": [
    "Below we run the forward subset selection with \"loan\" excluded. we choose to select up to 45 features and subfeatures."
   ]
  },
  {
   "cell_type": "code",
   "execution_count": 20,
   "metadata": {
    "collapsed": true,
    "scrolled": true
   },
   "outputs": [],
   "source": [
    "regfit.fwd1 = regsubsets(y~ age + job + marital + education+ default + housing + contact \n",
    "                        + month + day_of_week + duration + campaign + pdays + previous \n",
    "                        + poutcome + emp.var.rate + cons.price.idx + cons.conf.idx \n",
    "                        + euribor3m + nr.employed, bank.full, nvmax = 45, method=\"forward\")\n",
    "# Do forward stepwise subset selection "
   ]
  },
  {
   "cell_type": "markdown",
   "metadata": {},
   "source": [
    "The code below outputs the selection result. From the first \"forced in - forced out\" table, we see there is no predictor should be absolutely included or excluded. The second table tells if i features are selected to explain the CD purchase behavior, then which i features (marded with *) should be chosen."
   ]
  },
  {
   "cell_type": "code",
   "execution_count": 21,
   "metadata": {
    "scrolled": true
   },
   "outputs": [
    {
     "data": {
      "text/plain": [
       "Subset selection object\n",
       "Call: regsubsets.formula(y ~ age + job + marital + education + default + \n",
       "    housing + contact + month + day_of_week + duration + campaign + \n",
       "    pdays + previous + poutcome + emp.var.rate + cons.price.idx + \n",
       "    cons.conf.idx + euribor3m + nr.employed, bank.full, nvmax = 45, \n",
       "    method = \"forward\")\n",
       "51 Variables  (and intercept)\n",
       "                             Forced in Forced out\n",
       "age                              FALSE      FALSE\n",
       "jobblue-collar                   FALSE      FALSE\n",
       "jobentrepreneur                  FALSE      FALSE\n",
       "jobhousemaid                     FALSE      FALSE\n",
       "jobmanagement                    FALSE      FALSE\n",
       "jobretired                       FALSE      FALSE\n",
       "jobself-employed                 FALSE      FALSE\n",
       "jobservices                      FALSE      FALSE\n",
       "jobstudent                       FALSE      FALSE\n",
       "jobtechnician                    FALSE      FALSE\n",
       "jobunemployed                    FALSE      FALSE\n",
       "jobunknown                       FALSE      FALSE\n",
       "maritalmarried                   FALSE      FALSE\n",
       "maritalsingle                    FALSE      FALSE\n",
       "maritalunknown                   FALSE      FALSE\n",
       "educationbasic.6y                FALSE      FALSE\n",
       "educationbasic.9y                FALSE      FALSE\n",
       "educationhigh.school             FALSE      FALSE\n",
       "educationilliterate              FALSE      FALSE\n",
       "educationprofessional.course     FALSE      FALSE\n",
       "educationuniversity.degree       FALSE      FALSE\n",
       "educationunknown                 FALSE      FALSE\n",
       "defaultunknown                   FALSE      FALSE\n",
       "defaultyes                       FALSE      FALSE\n",
       "housingunknown                   FALSE      FALSE\n",
       "housingyes                       FALSE      FALSE\n",
       "contacttelephone                 FALSE      FALSE\n",
       "monthaug                         FALSE      FALSE\n",
       "monthdec                         FALSE      FALSE\n",
       "monthjul                         FALSE      FALSE\n",
       "monthjun                         FALSE      FALSE\n",
       "monthmar                         FALSE      FALSE\n",
       "monthmay                         FALSE      FALSE\n",
       "monthnov                         FALSE      FALSE\n",
       "monthoct                         FALSE      FALSE\n",
       "monthsep                         FALSE      FALSE\n",
       "day_of_weekmon                   FALSE      FALSE\n",
       "day_of_weekthu                   FALSE      FALSE\n",
       "day_of_weektue                   FALSE      FALSE\n",
       "day_of_weekwed                   FALSE      FALSE\n",
       "duration                         FALSE      FALSE\n",
       "campaign                         FALSE      FALSE\n",
       "pdays                            FALSE      FALSE\n",
       "previous                         FALSE      FALSE\n",
       "poutcomenonexistent              FALSE      FALSE\n",
       "poutcomesuccess                  FALSE      FALSE\n",
       "emp.var.rate                     FALSE      FALSE\n",
       "cons.price.idx                   FALSE      FALSE\n",
       "cons.conf.idx                    FALSE      FALSE\n",
       "euribor3m                        FALSE      FALSE\n",
       "nr.employed                      FALSE      FALSE\n",
       "1 subsets of each size up to 45\n",
       "Selection Algorithm: forward\n",
       "          age jobblue-collar jobentrepreneur jobhousemaid jobmanagement\n",
       "1  ( 1 )  \" \" \" \"            \" \"             \" \"          \" \"          \n",
       "2  ( 1 )  \" \" \" \"            \" \"             \" \"          \" \"          \n",
       "3  ( 1 )  \" \" \" \"            \" \"             \" \"          \" \"          \n",
       "4  ( 1 )  \" \" \" \"            \" \"             \" \"          \" \"          \n",
       "5  ( 1 )  \" \" \" \"            \" \"             \" \"          \" \"          \n",
       "6  ( 1 )  \" \" \" \"            \" \"             \" \"          \" \"          \n",
       "7  ( 1 )  \" \" \" \"            \" \"             \" \"          \" \"          \n",
       "8  ( 1 )  \" \" \" \"            \" \"             \" \"          \" \"          \n",
       "9  ( 1 )  \" \" \" \"            \" \"             \" \"          \" \"          \n",
       "10  ( 1 ) \" \" \" \"            \" \"             \" \"          \" \"          \n",
       "11  ( 1 ) \" \" \"*\"            \" \"             \" \"          \" \"          \n",
       "12  ( 1 ) \" \" \"*\"            \" \"             \" \"          \" \"          \n",
       "13  ( 1 ) \" \" \"*\"            \" \"             \" \"          \" \"          \n",
       "14  ( 1 ) \" \" \"*\"            \" \"             \" \"          \" \"          \n",
       "15  ( 1 ) \" \" \"*\"            \" \"             \" \"          \" \"          \n",
       "16  ( 1 ) \" \" \"*\"            \" \"             \" \"          \" \"          \n",
       "17  ( 1 ) \" \" \"*\"            \" \"             \" \"          \" \"          \n",
       "18  ( 1 ) \" \" \"*\"            \" \"             \" \"          \" \"          \n",
       "19  ( 1 ) \" \" \"*\"            \" \"             \" \"          \" \"          \n",
       "20  ( 1 ) \" \" \"*\"            \" \"             \" \"          \" \"          \n",
       "21  ( 1 ) \" \" \"*\"            \" \"             \" \"          \" \"          \n",
       "22  ( 1 ) \" \" \"*\"            \" \"             \" \"          \" \"          \n",
       "23  ( 1 ) \" \" \"*\"            \" \"             \" \"          \" \"          \n",
       "24  ( 1 ) \" \" \"*\"            \" \"             \" \"          \" \"          \n",
       "25  ( 1 ) \" \" \"*\"            \" \"             \" \"          \" \"          \n",
       "26  ( 1 ) \" \" \"*\"            \" \"             \" \"          \" \"          \n",
       "27  ( 1 ) \" \" \"*\"            \" \"             \" \"          \" \"          \n",
       "28  ( 1 ) \" \" \"*\"            \" \"             \" \"          \" \"          \n",
       "29  ( 1 ) \" \" \"*\"            \" \"             \" \"          \" \"          \n",
       "30  ( 1 ) \" \" \"*\"            \" \"             \" \"          \" \"          \n",
       "31  ( 1 ) \" \" \"*\"            \" \"             \" \"          \" \"          \n",
       "32  ( 1 ) \" \" \"*\"            \"*\"             \" \"          \" \"          \n",
       "33  ( 1 ) \" \" \"*\"            \"*\"             \" \"          \"*\"          \n",
       "34  ( 1 ) \" \" \"*\"            \"*\"             \" \"          \"*\"          \n",
       "35  ( 1 ) \" \" \"*\"            \"*\"             \" \"          \"*\"          \n",
       "36  ( 1 ) \" \" \"*\"            \"*\"             \" \"          \"*\"          \n",
       "37  ( 1 ) \" \" \"*\"            \"*\"             \" \"          \"*\"          \n",
       "38  ( 1 ) \"*\" \"*\"            \"*\"             \" \"          \"*\"          \n",
       "39  ( 1 ) \"*\" \"*\"            \"*\"             \"*\"          \"*\"          \n",
       "40  ( 1 ) \"*\" \"*\"            \"*\"             \"*\"          \"*\"          \n",
       "41  ( 1 ) \"*\" \"*\"            \"*\"             \"*\"          \"*\"          \n",
       "42  ( 1 ) \"*\" \"*\"            \"*\"             \"*\"          \"*\"          \n",
       "43  ( 1 ) \"*\" \"*\"            \"*\"             \"*\"          \"*\"          \n",
       "44  ( 1 ) \"*\" \"*\"            \"*\"             \"*\"          \"*\"          \n",
       "45  ( 1 ) \"*\" \"*\"            \"*\"             \"*\"          \"*\"          \n",
       "          jobretired jobself-employed jobservices jobstudent jobtechnician\n",
       "1  ( 1 )  \" \"        \" \"              \" \"         \" \"        \" \"          \n",
       "2  ( 1 )  \" \"        \" \"              \" \"         \" \"        \" \"          \n",
       "3  ( 1 )  \" \"        \" \"              \" \"         \" \"        \" \"          \n",
       "4  ( 1 )  \" \"        \" \"              \" \"         \" \"        \" \"          \n",
       "5  ( 1 )  \" \"        \" \"              \" \"         \" \"        \" \"          \n",
       "6  ( 1 )  \" \"        \" \"              \" \"         \" \"        \" \"          \n",
       "7  ( 1 )  \" \"        \" \"              \" \"         \" \"        \" \"          \n",
       "8  ( 1 )  \" \"        \" \"              \" \"         \" \"        \" \"          \n",
       "9  ( 1 )  \" \"        \" \"              \" \"         \" \"        \" \"          \n",
       "10  ( 1 ) \" \"        \" \"              \" \"         \" \"        \" \"          \n",
       "11  ( 1 ) \" \"        \" \"              \" \"         \" \"        \" \"          \n",
       "12  ( 1 ) \" \"        \" \"              \" \"         \" \"        \" \"          \n",
       "13  ( 1 ) \" \"        \" \"              \" \"         \" \"        \" \"          \n",
       "14  ( 1 ) \" \"        \" \"              \" \"         \" \"        \" \"          \n",
       "15  ( 1 ) \" \"        \" \"              \" \"         \" \"        \" \"          \n",
       "16  ( 1 ) \" \"        \" \"              \" \"         \" \"        \" \"          \n",
       "17  ( 1 ) \" \"        \" \"              \" \"         \" \"        \" \"          \n",
       "18  ( 1 ) \" \"        \" \"              \" \"         \" \"        \" \"          \n",
       "19  ( 1 ) \" \"        \" \"              \" \"         \" \"        \" \"          \n",
       "20  ( 1 ) \"*\"        \" \"              \" \"         \" \"        \" \"          \n",
       "21  ( 1 ) \"*\"        \" \"              \" \"         \" \"        \" \"          \n",
       "22  ( 1 ) \"*\"        \" \"              \" \"         \"*\"        \" \"          \n",
       "23  ( 1 ) \"*\"        \" \"              \" \"         \"*\"        \" \"          \n",
       "24  ( 1 ) \"*\"        \" \"              \" \"         \"*\"        \" \"          \n",
       "25  ( 1 ) \"*\"        \" \"              \" \"         \"*\"        \" \"          \n",
       "26  ( 1 ) \"*\"        \" \"              \"*\"         \"*\"        \" \"          \n",
       "27  ( 1 ) \"*\"        \" \"              \"*\"         \"*\"        \" \"          \n",
       "28  ( 1 ) \"*\"        \" \"              \"*\"         \"*\"        \" \"          \n",
       "29  ( 1 ) \"*\"        \" \"              \"*\"         \"*\"        \" \"          \n",
       "30  ( 1 ) \"*\"        \" \"              \"*\"         \"*\"        \" \"          \n",
       "31  ( 1 ) \"*\"        \"*\"              \"*\"         \"*\"        \" \"          \n",
       "32  ( 1 ) \"*\"        \"*\"              \"*\"         \"*\"        \" \"          \n",
       "33  ( 1 ) \"*\"        \"*\"              \"*\"         \"*\"        \" \"          \n",
       "34  ( 1 ) \"*\"        \"*\"              \"*\"         \"*\"        \" \"          \n",
       "35  ( 1 ) \"*\"        \"*\"              \"*\"         \"*\"        \" \"          \n",
       "36  ( 1 ) \"*\"        \"*\"              \"*\"         \"*\"        \" \"          \n",
       "37  ( 1 ) \"*\"        \"*\"              \"*\"         \"*\"        \" \"          \n",
       "38  ( 1 ) \"*\"        \"*\"              \"*\"         \"*\"        \" \"          \n",
       "39  ( 1 ) \"*\"        \"*\"              \"*\"         \"*\"        \" \"          \n",
       "40  ( 1 ) \"*\"        \"*\"              \"*\"         \"*\"        \" \"          \n",
       "41  ( 1 ) \"*\"        \"*\"              \"*\"         \"*\"        \" \"          \n",
       "42  ( 1 ) \"*\"        \"*\"              \"*\"         \"*\"        \" \"          \n",
       "43  ( 1 ) \"*\"        \"*\"              \"*\"         \"*\"        \" \"          \n",
       "44  ( 1 ) \"*\"        \"*\"              \"*\"         \"*\"        \" \"          \n",
       "45  ( 1 ) \"*\"        \"*\"              \"*\"         \"*\"        \"*\"          \n",
       "          jobunemployed jobunknown maritalmarried maritalsingle maritalunknown\n",
       "1  ( 1 )  \" \"           \" \"        \" \"            \" \"           \" \"           \n",
       "2  ( 1 )  \" \"           \" \"        \" \"            \" \"           \" \"           \n",
       "3  ( 1 )  \" \"           \" \"        \" \"            \" \"           \" \"           \n",
       "4  ( 1 )  \" \"           \" \"        \" \"            \" \"           \" \"           \n",
       "5  ( 1 )  \" \"           \" \"        \" \"            \" \"           \" \"           \n",
       "6  ( 1 )  \" \"           \" \"        \" \"            \" \"           \" \"           \n",
       "7  ( 1 )  \" \"           \" \"        \" \"            \" \"           \" \"           \n",
       "8  ( 1 )  \" \"           \" \"        \" \"            \" \"           \" \"           \n",
       "9  ( 1 )  \" \"           \" \"        \" \"            \" \"           \" \"           \n",
       "10  ( 1 ) \" \"           \" \"        \" \"            \" \"           \" \"           \n",
       "11  ( 1 ) \" \"           \" \"        \" \"            \" \"           \" \"           \n",
       "12  ( 1 ) \" \"           \" \"        \" \"            \" \"           \" \"           \n",
       "13  ( 1 ) \" \"           \" \"        \" \"            \" \"           \" \"           \n",
       "14  ( 1 ) \" \"           \" \"        \" \"            \" \"           \" \"           \n",
       "15  ( 1 ) \" \"           \" \"        \" \"            \" \"           \" \"           \n",
       "16  ( 1 ) \" \"           \" \"        \" \"            \" \"           \" \"           \n",
       "17  ( 1 ) \" \"           \" \"        \" \"            \" \"           \" \"           \n",
       "18  ( 1 ) \" \"           \" \"        \" \"            \" \"           \" \"           \n",
       "19  ( 1 ) \" \"           \" \"        \" \"            \" \"           \" \"           \n",
       "20  ( 1 ) \" \"           \" \"        \" \"            \" \"           \" \"           \n",
       "21  ( 1 ) \" \"           \" \"        \" \"            \" \"           \" \"           \n",
       "22  ( 1 ) \" \"           \" \"        \" \"            \" \"           \" \"           \n",
       "23  ( 1 ) \" \"           \" \"        \" \"            \" \"           \" \"           \n",
       "24  ( 1 ) \" \"           \" \"        \" \"            \" \"           \" \"           \n",
       "25  ( 1 ) \" \"           \" \"        \" \"            \" \"           \" \"           \n",
       "26  ( 1 ) \" \"           \" \"        \" \"            \" \"           \" \"           \n",
       "27  ( 1 ) \" \"           \" \"        \" \"            \" \"           \" \"           \n",
       "28  ( 1 ) \" \"           \" \"        \" \"            \" \"           \" \"           \n",
       "29  ( 1 ) \" \"           \" \"        \" \"            \" \"           \" \"           \n",
       "30  ( 1 ) \" \"           \" \"        \" \"            \" \"           \" \"           \n",
       "31  ( 1 ) \" \"           \" \"        \" \"            \" \"           \" \"           \n",
       "32  ( 1 ) \" \"           \" \"        \" \"            \" \"           \" \"           \n",
       "33  ( 1 ) \" \"           \" \"        \" \"            \" \"           \" \"           \n",
       "34  ( 1 ) \" \"           \" \"        \" \"            \" \"           \" \"           \n",
       "35  ( 1 ) \" \"           \" \"        \" \"            \" \"           \" \"           \n",
       "36  ( 1 ) \" \"           \" \"        \" \"            \"*\"           \" \"           \n",
       "37  ( 1 ) \" \"           \" \"        \" \"            \"*\"           \" \"           \n",
       "38  ( 1 ) \" \"           \" \"        \" \"            \"*\"           \" \"           \n",
       "39  ( 1 ) \" \"           \" \"        \" \"            \"*\"           \" \"           \n",
       "40  ( 1 ) \" \"           \" \"        \" \"            \"*\"           \" \"           \n",
       "41  ( 1 ) \" \"           \" \"        \" \"            \"*\"           \" \"           \n",
       "42  ( 1 ) \" \"           \"*\"        \" \"            \"*\"           \" \"           \n",
       "43  ( 1 ) \" \"           \"*\"        \"*\"            \"*\"           \" \"           \n",
       "44  ( 1 ) \" \"           \"*\"        \"*\"            \"*\"           \" \"           \n",
       "45  ( 1 ) \" \"           \"*\"        \"*\"            \"*\"           \" \"           \n",
       "          educationbasic.6y educationbasic.9y educationhigh.school\n",
       "1  ( 1 )  \" \"               \" \"               \" \"                 \n",
       "2  ( 1 )  \" \"               \" \"               \" \"                 \n",
       "3  ( 1 )  \" \"               \" \"               \" \"                 \n",
       "4  ( 1 )  \" \"               \" \"               \" \"                 \n",
       "5  ( 1 )  \" \"               \" \"               \" \"                 \n",
       "6  ( 1 )  \" \"               \" \"               \" \"                 \n",
       "7  ( 1 )  \" \"               \" \"               \" \"                 \n",
       "8  ( 1 )  \" \"               \" \"               \" \"                 \n",
       "9  ( 1 )  \" \"               \" \"               \" \"                 \n",
       "10  ( 1 ) \" \"               \" \"               \" \"                 \n",
       "11  ( 1 ) \" \"               \" \"               \" \"                 \n",
       "12  ( 1 ) \" \"               \" \"               \" \"                 \n",
       "13  ( 1 ) \" \"               \" \"               \" \"                 \n",
       "14  ( 1 ) \" \"               \" \"               \" \"                 \n",
       "15  ( 1 ) \" \"               \" \"               \" \"                 \n",
       "16  ( 1 ) \" \"               \" \"               \" \"                 \n",
       "17  ( 1 ) \" \"               \" \"               \" \"                 \n",
       "18  ( 1 ) \" \"               \" \"               \" \"                 \n",
       "19  ( 1 ) \" \"               \" \"               \" \"                 \n",
       "20  ( 1 ) \" \"               \" \"               \" \"                 \n",
       "21  ( 1 ) \" \"               \" \"               \" \"                 \n",
       "22  ( 1 ) \" \"               \" \"               \" \"                 \n",
       "23  ( 1 ) \" \"               \" \"               \" \"                 \n",
       "24  ( 1 ) \" \"               \" \"               \" \"                 \n",
       "25  ( 1 ) \" \"               \" \"               \" \"                 \n",
       "26  ( 1 ) \" \"               \" \"               \" \"                 \n",
       "27  ( 1 ) \" \"               \" \"               \" \"                 \n",
       "28  ( 1 ) \" \"               \" \"               \" \"                 \n",
       "29  ( 1 ) \" \"               \" \"               \" \"                 \n",
       "30  ( 1 ) \" \"               \" \"               \" \"                 \n",
       "31  ( 1 ) \" \"               \" \"               \" \"                 \n",
       "32  ( 1 ) \" \"               \" \"               \" \"                 \n",
       "33  ( 1 ) \" \"               \" \"               \" \"                 \n",
       "34  ( 1 ) \" \"               \" \"               \" \"                 \n",
       "35  ( 1 ) \"*\"               \" \"               \" \"                 \n",
       "36  ( 1 ) \"*\"               \" \"               \" \"                 \n",
       "37  ( 1 ) \"*\"               \" \"               \" \"                 \n",
       "38  ( 1 ) \"*\"               \" \"               \" \"                 \n",
       "39  ( 1 ) \"*\"               \" \"               \" \"                 \n",
       "40  ( 1 ) \"*\"               \" \"               \"*\"                 \n",
       "41  ( 1 ) \"*\"               \" \"               \"*\"                 \n",
       "42  ( 1 ) \"*\"               \" \"               \"*\"                 \n",
       "43  ( 1 ) \"*\"               \" \"               \"*\"                 \n",
       "44  ( 1 ) \"*\"               \" \"               \"*\"                 \n",
       "45  ( 1 ) \"*\"               \" \"               \"*\"                 \n",
       "          educationilliterate educationprofessional.course\n",
       "1  ( 1 )  \" \"                 \" \"                         \n",
       "2  ( 1 )  \" \"                 \" \"                         \n",
       "3  ( 1 )  \" \"                 \" \"                         \n",
       "4  ( 1 )  \" \"                 \" \"                         \n",
       "5  ( 1 )  \" \"                 \" \"                         \n",
       "6  ( 1 )  \" \"                 \" \"                         \n",
       "7  ( 1 )  \" \"                 \" \"                         \n",
       "8  ( 1 )  \" \"                 \" \"                         \n",
       "9  ( 1 )  \" \"                 \" \"                         \n",
       "10  ( 1 ) \" \"                 \" \"                         \n",
       "11  ( 1 ) \" \"                 \" \"                         \n",
       "12  ( 1 ) \" \"                 \" \"                         \n",
       "13  ( 1 ) \" \"                 \" \"                         \n",
       "14  ( 1 ) \" \"                 \" \"                         \n",
       "15  ( 1 ) \" \"                 \" \"                         \n",
       "16  ( 1 ) \" \"                 \" \"                         \n",
       "17  ( 1 ) \" \"                 \" \"                         \n",
       "18  ( 1 ) \" \"                 \" \"                         \n",
       "19  ( 1 ) \" \"                 \" \"                         \n",
       "20  ( 1 ) \" \"                 \" \"                         \n",
       "21  ( 1 ) \" \"                 \" \"                         \n",
       "22  ( 1 ) \" \"                 \" \"                         \n",
       "23  ( 1 ) \" \"                 \" \"                         \n",
       "24  ( 1 ) \" \"                 \" \"                         \n",
       "25  ( 1 ) \" \"                 \" \"                         \n",
       "26  ( 1 ) \" \"                 \" \"                         \n",
       "27  ( 1 ) \" \"                 \" \"                         \n",
       "28  ( 1 ) \" \"                 \" \"                         \n",
       "29  ( 1 ) \" \"                 \" \"                         \n",
       "30  ( 1 ) \"*\"                 \" \"                         \n",
       "31  ( 1 ) \"*\"                 \" \"                         \n",
       "32  ( 1 ) \"*\"                 \" \"                         \n",
       "33  ( 1 ) \"*\"                 \" \"                         \n",
       "34  ( 1 ) \"*\"                 \" \"                         \n",
       "35  ( 1 ) \"*\"                 \" \"                         \n",
       "36  ( 1 ) \"*\"                 \" \"                         \n",
       "37  ( 1 ) \"*\"                 \"*\"                         \n",
       "38  ( 1 ) \"*\"                 \"*\"                         \n",
       "39  ( 1 ) \"*\"                 \"*\"                         \n",
       "40  ( 1 ) \"*\"                 \"*\"                         \n",
       "41  ( 1 ) \"*\"                 \"*\"                         \n",
       "42  ( 1 ) \"*\"                 \"*\"                         \n",
       "43  ( 1 ) \"*\"                 \"*\"                         \n",
       "44  ( 1 ) \"*\"                 \"*\"                         \n",
       "45  ( 1 ) \"*\"                 \"*\"                         \n",
       "          educationuniversity.degree educationunknown defaultunknown defaultyes\n",
       "1  ( 1 )  \" \"                        \" \"              \" \"            \" \"       \n",
       "2  ( 1 )  \" \"                        \" \"              \" \"            \" \"       \n",
       "3  ( 1 )  \" \"                        \" \"              \" \"            \" \"       \n",
       "4  ( 1 )  \" \"                        \" \"              \" \"            \" \"       \n",
       "5  ( 1 )  \" \"                        \" \"              \" \"            \" \"       \n",
       "6  ( 1 )  \" \"                        \" \"              \" \"            \" \"       \n",
       "7  ( 1 )  \" \"                        \" \"              \" \"            \" \"       \n",
       "8  ( 1 )  \" \"                        \" \"              \" \"            \" \"       \n",
       "9  ( 1 )  \" \"                        \" \"              \" \"            \" \"       \n",
       "10  ( 1 ) \" \"                        \" \"              \" \"            \" \"       \n",
       "11  ( 1 ) \" \"                        \" \"              \" \"            \" \"       \n",
       "12  ( 1 ) \" \"                        \" \"              \" \"            \" \"       \n",
       "13  ( 1 ) \" \"                        \" \"              \" \"            \" \"       \n",
       "14  ( 1 ) \" \"                        \" \"              \" \"            \" \"       \n",
       "15  ( 1 ) \" \"                        \" \"              \" \"            \" \"       \n",
       "16  ( 1 ) \" \"                        \" \"              \" \"            \" \"       \n",
       "17  ( 1 ) \" \"                        \" \"              \" \"            \" \"       \n",
       "18  ( 1 ) \" \"                        \" \"              \" \"            \" \"       \n",
       "19  ( 1 ) \" \"                        \" \"              \" \"            \" \"       \n",
       "20  ( 1 ) \" \"                        \" \"              \" \"            \" \"       \n",
       "21  ( 1 ) \" \"                        \" \"              \"*\"            \" \"       \n",
       "22  ( 1 ) \" \"                        \" \"              \"*\"            \" \"       \n",
       "23  ( 1 ) \" \"                        \" \"              \"*\"            \" \"       \n",
       "24  ( 1 ) \"*\"                        \" \"              \"*\"            \" \"       \n",
       "25  ( 1 ) \"*\"                        \" \"              \"*\"            \" \"       \n",
       "26  ( 1 ) \"*\"                        \" \"              \"*\"            \" \"       \n",
       "27  ( 1 ) \"*\"                        \" \"              \"*\"            \" \"       \n",
       "28  ( 1 ) \"*\"                        \" \"              \"*\"            \" \"       \n",
       "29  ( 1 ) \"*\"                        \" \"              \"*\"            \" \"       \n",
       "30  ( 1 ) \"*\"                        \" \"              \"*\"            \" \"       \n",
       "31  ( 1 ) \"*\"                        \" \"              \"*\"            \" \"       \n",
       "32  ( 1 ) \"*\"                        \" \"              \"*\"            \" \"       \n",
       "33  ( 1 ) \"*\"                        \" \"              \"*\"            \" \"       \n",
       "34  ( 1 ) \"*\"                        \"*\"              \"*\"            \" \"       \n",
       "35  ( 1 ) \"*\"                        \"*\"              \"*\"            \" \"       \n",
       "36  ( 1 ) \"*\"                        \"*\"              \"*\"            \" \"       \n",
       "37  ( 1 ) \"*\"                        \"*\"              \"*\"            \" \"       \n",
       "38  ( 1 ) \"*\"                        \"*\"              \"*\"            \" \"       \n",
       "39  ( 1 ) \"*\"                        \"*\"              \"*\"            \" \"       \n",
       "40  ( 1 ) \"*\"                        \"*\"              \"*\"            \" \"       \n",
       "41  ( 1 ) \"*\"                        \"*\"              \"*\"            \" \"       \n",
       "42  ( 1 ) \"*\"                        \"*\"              \"*\"            \" \"       \n",
       "43  ( 1 ) \"*\"                        \"*\"              \"*\"            \" \"       \n",
       "44  ( 1 ) \"*\"                        \"*\"              \"*\"            \" \"       \n",
       "45  ( 1 ) \"*\"                        \"*\"              \"*\"            \" \"       \n",
       "          housingunknown housingyes contacttelephone monthaug monthdec monthjul\n",
       "1  ( 1 )  \" \"            \" \"        \" \"              \" \"      \" \"      \" \"     \n",
       "2  ( 1 )  \" \"            \" \"        \" \"              \" \"      \" \"      \" \"     \n",
       "3  ( 1 )  \" \"            \" \"        \" \"              \" \"      \" \"      \" \"     \n",
       "4  ( 1 )  \" \"            \" \"        \" \"              \" \"      \" \"      \" \"     \n",
       "5  ( 1 )  \" \"            \" \"        \" \"              \" \"      \" \"      \" \"     \n",
       "6  ( 1 )  \" \"            \" \"        \" \"              \" \"      \" \"      \" \"     \n",
       "7  ( 1 )  \" \"            \" \"        \" \"              \" \"      \" \"      \" \"     \n",
       "8  ( 1 )  \" \"            \" \"        \" \"              \" \"      \" \"      \" \"     \n",
       "9  ( 1 )  \" \"            \" \"        \" \"              \" \"      \" \"      \"*\"     \n",
       "10  ( 1 ) \" \"            \" \"        \" \"              \" \"      \" \"      \"*\"     \n",
       "11  ( 1 ) \" \"            \" \"        \" \"              \" \"      \" \"      \"*\"     \n",
       "12  ( 1 ) \" \"            \" \"        \"*\"              \" \"      \" \"      \"*\"     \n",
       "13  ( 1 ) \" \"            \" \"        \"*\"              \" \"      \" \"      \"*\"     \n",
       "14  ( 1 ) \" \"            \" \"        \"*\"              \" \"      \" \"      \"*\"     \n",
       "15  ( 1 ) \" \"            \" \"        \"*\"              \" \"      \" \"      \"*\"     \n",
       "16  ( 1 ) \" \"            \" \"        \"*\"              \" \"      \" \"      \"*\"     \n",
       "17  ( 1 ) \" \"            \" \"        \"*\"              \"*\"      \" \"      \"*\"     \n",
       "18  ( 1 ) \" \"            \" \"        \"*\"              \"*\"      \" \"      \"*\"     \n",
       "19  ( 1 ) \" \"            \" \"        \"*\"              \"*\"      \"*\"      \"*\"     \n",
       "20  ( 1 ) \" \"            \" \"        \"*\"              \"*\"      \"*\"      \"*\"     \n",
       "21  ( 1 ) \" \"            \" \"        \"*\"              \"*\"      \"*\"      \"*\"     \n",
       "22  ( 1 ) \" \"            \" \"        \"*\"              \"*\"      \"*\"      \"*\"     \n",
       "23  ( 1 ) \" \"            \" \"        \"*\"              \"*\"      \"*\"      \"*\"     \n",
       "24  ( 1 ) \" \"            \" \"        \"*\"              \"*\"      \"*\"      \"*\"     \n",
       "25  ( 1 ) \" \"            \" \"        \"*\"              \"*\"      \"*\"      \"*\"     \n",
       "26  ( 1 ) \" \"            \" \"        \"*\"              \"*\"      \"*\"      \"*\"     \n",
       "27  ( 1 ) \" \"            \" \"        \"*\"              \"*\"      \"*\"      \"*\"     \n",
       "28  ( 1 ) \" \"            \" \"        \"*\"              \"*\"      \"*\"      \"*\"     \n",
       "29  ( 1 ) \" \"            \" \"        \"*\"              \"*\"      \"*\"      \"*\"     \n",
       "30  ( 1 ) \" \"            \" \"        \"*\"              \"*\"      \"*\"      \"*\"     \n",
       "31  ( 1 ) \" \"            \" \"        \"*\"              \"*\"      \"*\"      \"*\"     \n",
       "32  ( 1 ) \" \"            \" \"        \"*\"              \"*\"      \"*\"      \"*\"     \n",
       "33  ( 1 ) \" \"            \" \"        \"*\"              \"*\"      \"*\"      \"*\"     \n",
       "34  ( 1 ) \" \"            \" \"        \"*\"              \"*\"      \"*\"      \"*\"     \n",
       "35  ( 1 ) \" \"            \" \"        \"*\"              \"*\"      \"*\"      \"*\"     \n",
       "36  ( 1 ) \" \"            \" \"        \"*\"              \"*\"      \"*\"      \"*\"     \n",
       "37  ( 1 ) \" \"            \" \"        \"*\"              \"*\"      \"*\"      \"*\"     \n",
       "38  ( 1 ) \" \"            \" \"        \"*\"              \"*\"      \"*\"      \"*\"     \n",
       "39  ( 1 ) \" \"            \" \"        \"*\"              \"*\"      \"*\"      \"*\"     \n",
       "40  ( 1 ) \" \"            \" \"        \"*\"              \"*\"      \"*\"      \"*\"     \n",
       "41  ( 1 ) \" \"            \" \"        \"*\"              \"*\"      \"*\"      \"*\"     \n",
       "42  ( 1 ) \" \"            \" \"        \"*\"              \"*\"      \"*\"      \"*\"     \n",
       "43  ( 1 ) \" \"            \" \"        \"*\"              \"*\"      \"*\"      \"*\"     \n",
       "44  ( 1 ) \" \"            \" \"        \"*\"              \"*\"      \"*\"      \"*\"     \n",
       "45  ( 1 ) \" \"            \" \"        \"*\"              \"*\"      \"*\"      \"*\"     \n",
       "          monthjun monthmar monthmay monthnov monthoct monthsep day_of_weekmon\n",
       "1  ( 1 )  \" \"      \" \"      \" \"      \" \"      \" \"      \" \"      \" \"           \n",
       "2  ( 1 )  \" \"      \" \"      \" \"      \" \"      \" \"      \" \"      \" \"           \n",
       "3  ( 1 )  \" \"      \" \"      \" \"      \" \"      \" \"      \" \"      \" \"           \n",
       "4  ( 1 )  \" \"      \" \"      \"*\"      \" \"      \" \"      \" \"      \" \"           \n",
       "5  ( 1 )  \" \"      \" \"      \"*\"      \" \"      \" \"      \" \"      \" \"           \n",
       "6  ( 1 )  \" \"      \"*\"      \"*\"      \" \"      \" \"      \" \"      \" \"           \n",
       "7  ( 1 )  \" \"      \"*\"      \"*\"      \" \"      \" \"      \" \"      \" \"           \n",
       "8  ( 1 )  \" \"      \"*\"      \"*\"      \" \"      \" \"      \" \"      \" \"           \n",
       "9  ( 1 )  \" \"      \"*\"      \"*\"      \" \"      \" \"      \" \"      \" \"           \n",
       "10  ( 1 ) \"*\"      \"*\"      \"*\"      \" \"      \" \"      \" \"      \" \"           \n",
       "11  ( 1 ) \"*\"      \"*\"      \"*\"      \" \"      \" \"      \" \"      \" \"           \n",
       "12  ( 1 ) \"*\"      \"*\"      \"*\"      \" \"      \" \"      \" \"      \" \"           \n",
       "13  ( 1 ) \"*\"      \"*\"      \"*\"      \" \"      \" \"      \" \"      \"*\"           \n",
       "14  ( 1 ) \"*\"      \"*\"      \"*\"      \" \"      \" \"      \"*\"      \"*\"           \n",
       "15  ( 1 ) \"*\"      \"*\"      \"*\"      \" \"      \" \"      \"*\"      \"*\"           \n",
       "16  ( 1 ) \"*\"      \"*\"      \"*\"      \" \"      \" \"      \"*\"      \"*\"           \n",
       "17  ( 1 ) \"*\"      \"*\"      \"*\"      \" \"      \" \"      \"*\"      \"*\"           \n",
       "18  ( 1 ) \"*\"      \"*\"      \"*\"      \" \"      \" \"      \"*\"      \"*\"           \n",
       "19  ( 1 ) \"*\"      \"*\"      \"*\"      \" \"      \" \"      \"*\"      \"*\"           \n",
       "20  ( 1 ) \"*\"      \"*\"      \"*\"      \" \"      \" \"      \"*\"      \"*\"           \n",
       "21  ( 1 ) \"*\"      \"*\"      \"*\"      \" \"      \" \"      \"*\"      \"*\"           \n",
       "22  ( 1 ) \"*\"      \"*\"      \"*\"      \" \"      \" \"      \"*\"      \"*\"           \n",
       "23  ( 1 ) \"*\"      \"*\"      \"*\"      \"*\"      \" \"      \"*\"      \"*\"           \n",
       "24  ( 1 ) \"*\"      \"*\"      \"*\"      \"*\"      \" \"      \"*\"      \"*\"           \n",
       "25  ( 1 ) \"*\"      \"*\"      \"*\"      \"*\"      \" \"      \"*\"      \"*\"           \n",
       "26  ( 1 ) \"*\"      \"*\"      \"*\"      \"*\"      \" \"      \"*\"      \"*\"           \n",
       "27  ( 1 ) \"*\"      \"*\"      \"*\"      \"*\"      \"*\"      \"*\"      \"*\"           \n",
       "28  ( 1 ) \"*\"      \"*\"      \"*\"      \"*\"      \"*\"      \"*\"      \"*\"           \n",
       "29  ( 1 ) \"*\"      \"*\"      \"*\"      \"*\"      \"*\"      \"*\"      \"*\"           \n",
       "30  ( 1 ) \"*\"      \"*\"      \"*\"      \"*\"      \"*\"      \"*\"      \"*\"           \n",
       "31  ( 1 ) \"*\"      \"*\"      \"*\"      \"*\"      \"*\"      \"*\"      \"*\"           \n",
       "32  ( 1 ) \"*\"      \"*\"      \"*\"      \"*\"      \"*\"      \"*\"      \"*\"           \n",
       "33  ( 1 ) \"*\"      \"*\"      \"*\"      \"*\"      \"*\"      \"*\"      \"*\"           \n",
       "34  ( 1 ) \"*\"      \"*\"      \"*\"      \"*\"      \"*\"      \"*\"      \"*\"           \n",
       "35  ( 1 ) \"*\"      \"*\"      \"*\"      \"*\"      \"*\"      \"*\"      \"*\"           \n",
       "36  ( 1 ) \"*\"      \"*\"      \"*\"      \"*\"      \"*\"      \"*\"      \"*\"           \n",
       "37  ( 1 ) \"*\"      \"*\"      \"*\"      \"*\"      \"*\"      \"*\"      \"*\"           \n",
       "38  ( 1 ) \"*\"      \"*\"      \"*\"      \"*\"      \"*\"      \"*\"      \"*\"           \n",
       "39  ( 1 ) \"*\"      \"*\"      \"*\"      \"*\"      \"*\"      \"*\"      \"*\"           \n",
       "40  ( 1 ) \"*\"      \"*\"      \"*\"      \"*\"      \"*\"      \"*\"      \"*\"           \n",
       "41  ( 1 ) \"*\"      \"*\"      \"*\"      \"*\"      \"*\"      \"*\"      \"*\"           \n",
       "42  ( 1 ) \"*\"      \"*\"      \"*\"      \"*\"      \"*\"      \"*\"      \"*\"           \n",
       "43  ( 1 ) \"*\"      \"*\"      \"*\"      \"*\"      \"*\"      \"*\"      \"*\"           \n",
       "44  ( 1 ) \"*\"      \"*\"      \"*\"      \"*\"      \"*\"      \"*\"      \"*\"           \n",
       "45  ( 1 ) \"*\"      \"*\"      \"*\"      \"*\"      \"*\"      \"*\"      \"*\"           \n",
       "          day_of_weekthu day_of_weektue day_of_weekwed duration campaign pdays\n",
       "1  ( 1 )  \" \"            \" \"            \" \"            \"*\"      \" \"      \" \"  \n",
       "2  ( 1 )  \" \"            \" \"            \" \"            \"*\"      \" \"      \" \"  \n",
       "3  ( 1 )  \" \"            \" \"            \" \"            \"*\"      \" \"      \"*\"  \n",
       "4  ( 1 )  \" \"            \" \"            \" \"            \"*\"      \" \"      \"*\"  \n",
       "5  ( 1 )  \" \"            \" \"            \" \"            \"*\"      \" \"      \"*\"  \n",
       "6  ( 1 )  \" \"            \" \"            \" \"            \"*\"      \" \"      \"*\"  \n",
       "7  ( 1 )  \" \"            \" \"            \" \"            \"*\"      \" \"      \"*\"  \n",
       "8  ( 1 )  \" \"            \" \"            \" \"            \"*\"      \" \"      \"*\"  \n",
       "9  ( 1 )  \" \"            \" \"            \" \"            \"*\"      \" \"      \"*\"  \n",
       "10  ( 1 ) \" \"            \" \"            \" \"            \"*\"      \" \"      \"*\"  \n",
       "11  ( 1 ) \" \"            \" \"            \" \"            \"*\"      \" \"      \"*\"  \n",
       "12  ( 1 ) \" \"            \" \"            \" \"            \"*\"      \" \"      \"*\"  \n",
       "13  ( 1 ) \" \"            \" \"            \" \"            \"*\"      \" \"      \"*\"  \n",
       "14  ( 1 ) \" \"            \" \"            \" \"            \"*\"      \" \"      \"*\"  \n",
       "15  ( 1 ) \" \"            \" \"            \" \"            \"*\"      \" \"      \"*\"  \n",
       "16  ( 1 ) \" \"            \" \"            \" \"            \"*\"      \" \"      \"*\"  \n",
       "17  ( 1 ) \" \"            \" \"            \" \"            \"*\"      \" \"      \"*\"  \n",
       "18  ( 1 ) \" \"            \" \"            \" \"            \"*\"      \" \"      \"*\"  \n",
       "19  ( 1 ) \" \"            \" \"            \" \"            \"*\"      \" \"      \"*\"  \n",
       "20  ( 1 ) \" \"            \" \"            \" \"            \"*\"      \" \"      \"*\"  \n",
       "21  ( 1 ) \" \"            \" \"            \" \"            \"*\"      \" \"      \"*\"  \n",
       "22  ( 1 ) \" \"            \" \"            \" \"            \"*\"      \" \"      \"*\"  \n",
       "23  ( 1 ) \" \"            \" \"            \" \"            \"*\"      \" \"      \"*\"  \n",
       "24  ( 1 ) \" \"            \" \"            \" \"            \"*\"      \" \"      \"*\"  \n",
       "25  ( 1 ) \" \"            \" \"            \" \"            \"*\"      \"*\"      \"*\"  \n",
       "26  ( 1 ) \" \"            \" \"            \" \"            \"*\"      \"*\"      \"*\"  \n",
       "27  ( 1 ) \" \"            \" \"            \" \"            \"*\"      \"*\"      \"*\"  \n",
       "28  ( 1 ) \" \"            \" \"            \"*\"            \"*\"      \"*\"      \"*\"  \n",
       "29  ( 1 ) \" \"            \" \"            \"*\"            \"*\"      \"*\"      \"*\"  \n",
       "30  ( 1 ) \" \"            \" \"            \"*\"            \"*\"      \"*\"      \"*\"  \n",
       "31  ( 1 ) \" \"            \" \"            \"*\"            \"*\"      \"*\"      \"*\"  \n",
       "32  ( 1 ) \" \"            \" \"            \"*\"            \"*\"      \"*\"      \"*\"  \n",
       "33  ( 1 ) \" \"            \" \"            \"*\"            \"*\"      \"*\"      \"*\"  \n",
       "34  ( 1 ) \" \"            \" \"            \"*\"            \"*\"      \"*\"      \"*\"  \n",
       "35  ( 1 ) \" \"            \" \"            \"*\"            \"*\"      \"*\"      \"*\"  \n",
       "36  ( 1 ) \" \"            \" \"            \"*\"            \"*\"      \"*\"      \"*\"  \n",
       "37  ( 1 ) \" \"            \" \"            \"*\"            \"*\"      \"*\"      \"*\"  \n",
       "38  ( 1 ) \" \"            \" \"            \"*\"            \"*\"      \"*\"      \"*\"  \n",
       "39  ( 1 ) \" \"            \" \"            \"*\"            \"*\"      \"*\"      \"*\"  \n",
       "40  ( 1 ) \" \"            \" \"            \"*\"            \"*\"      \"*\"      \"*\"  \n",
       "41  ( 1 ) \"*\"            \" \"            \"*\"            \"*\"      \"*\"      \"*\"  \n",
       "42  ( 1 ) \"*\"            \" \"            \"*\"            \"*\"      \"*\"      \"*\"  \n",
       "43  ( 1 ) \"*\"            \" \"            \"*\"            \"*\"      \"*\"      \"*\"  \n",
       "44  ( 1 ) \"*\"            \"*\"            \"*\"            \"*\"      \"*\"      \"*\"  \n",
       "45  ( 1 ) \"*\"            \"*\"            \"*\"            \"*\"      \"*\"      \"*\"  \n",
       "          previous poutcomenonexistent poutcomesuccess emp.var.rate\n",
       "1  ( 1 )  \" \"      \" \"                 \" \"             \" \"         \n",
       "2  ( 1 )  \" \"      \" \"                 \" \"             \" \"         \n",
       "3  ( 1 )  \" \"      \" \"                 \" \"             \" \"         \n",
       "4  ( 1 )  \" \"      \" \"                 \" \"             \" \"         \n",
       "5  ( 1 )  \" \"      \" \"                 \" \"             \" \"         \n",
       "6  ( 1 )  \" \"      \" \"                 \" \"             \" \"         \n",
       "7  ( 1 )  \" \"      \"*\"                 \" \"             \" \"         \n",
       "8  ( 1 )  \" \"      \"*\"                 \"*\"             \" \"         \n",
       "9  ( 1 )  \" \"      \"*\"                 \"*\"             \" \"         \n",
       "10  ( 1 ) \" \"      \"*\"                 \"*\"             \" \"         \n",
       "11  ( 1 ) \" \"      \"*\"                 \"*\"             \" \"         \n",
       "12  ( 1 ) \" \"      \"*\"                 \"*\"             \" \"         \n",
       "13  ( 1 ) \" \"      \"*\"                 \"*\"             \" \"         \n",
       "14  ( 1 ) \" \"      \"*\"                 \"*\"             \" \"         \n",
       "15  ( 1 ) \" \"      \"*\"                 \"*\"             \" \"         \n",
       "16  ( 1 ) \" \"      \"*\"                 \"*\"             \"*\"         \n",
       "17  ( 1 ) \" \"      \"*\"                 \"*\"             \"*\"         \n",
       "18  ( 1 ) \" \"      \"*\"                 \"*\"             \"*\"         \n",
       "19  ( 1 ) \" \"      \"*\"                 \"*\"             \"*\"         \n",
       "20  ( 1 ) \" \"      \"*\"                 \"*\"             \"*\"         \n",
       "21  ( 1 ) \" \"      \"*\"                 \"*\"             \"*\"         \n",
       "22  ( 1 ) \" \"      \"*\"                 \"*\"             \"*\"         \n",
       "23  ( 1 ) \" \"      \"*\"                 \"*\"             \"*\"         \n",
       "24  ( 1 ) \" \"      \"*\"                 \"*\"             \"*\"         \n",
       "25  ( 1 ) \" \"      \"*\"                 \"*\"             \"*\"         \n",
       "26  ( 1 ) \" \"      \"*\"                 \"*\"             \"*\"         \n",
       "27  ( 1 ) \" \"      \"*\"                 \"*\"             \"*\"         \n",
       "28  ( 1 ) \" \"      \"*\"                 \"*\"             \"*\"         \n",
       "29  ( 1 ) \"*\"      \"*\"                 \"*\"             \"*\"         \n",
       "30  ( 1 ) \"*\"      \"*\"                 \"*\"             \"*\"         \n",
       "31  ( 1 ) \"*\"      \"*\"                 \"*\"             \"*\"         \n",
       "32  ( 1 ) \"*\"      \"*\"                 \"*\"             \"*\"         \n",
       "33  ( 1 ) \"*\"      \"*\"                 \"*\"             \"*\"         \n",
       "34  ( 1 ) \"*\"      \"*\"                 \"*\"             \"*\"         \n",
       "35  ( 1 ) \"*\"      \"*\"                 \"*\"             \"*\"         \n",
       "36  ( 1 ) \"*\"      \"*\"                 \"*\"             \"*\"         \n",
       "37  ( 1 ) \"*\"      \"*\"                 \"*\"             \"*\"         \n",
       "38  ( 1 ) \"*\"      \"*\"                 \"*\"             \"*\"         \n",
       "39  ( 1 ) \"*\"      \"*\"                 \"*\"             \"*\"         \n",
       "40  ( 1 ) \"*\"      \"*\"                 \"*\"             \"*\"         \n",
       "41  ( 1 ) \"*\"      \"*\"                 \"*\"             \"*\"         \n",
       "42  ( 1 ) \"*\"      \"*\"                 \"*\"             \"*\"         \n",
       "43  ( 1 ) \"*\"      \"*\"                 \"*\"             \"*\"         \n",
       "44  ( 1 ) \"*\"      \"*\"                 \"*\"             \"*\"         \n",
       "45  ( 1 ) \"*\"      \"*\"                 \"*\"             \"*\"         \n",
       "          cons.price.idx cons.conf.idx euribor3m nr.employed\n",
       "1  ( 1 )  \" \"            \" \"           \" \"       \" \"        \n",
       "2  ( 1 )  \" \"            \" \"           \" \"       \"*\"        \n",
       "3  ( 1 )  \" \"            \" \"           \" \"       \"*\"        \n",
       "4  ( 1 )  \" \"            \" \"           \" \"       \"*\"        \n",
       "5  ( 1 )  \" \"            \"*\"           \" \"       \"*\"        \n",
       "6  ( 1 )  \" \"            \"*\"           \" \"       \"*\"        \n",
       "7  ( 1 )  \" \"            \"*\"           \" \"       \"*\"        \n",
       "8  ( 1 )  \" \"            \"*\"           \" \"       \"*\"        \n",
       "9  ( 1 )  \" \"            \"*\"           \" \"       \"*\"        \n",
       "10  ( 1 ) \" \"            \"*\"           \" \"       \"*\"        \n",
       "11  ( 1 ) \" \"            \"*\"           \" \"       \"*\"        \n",
       "12  ( 1 ) \" \"            \"*\"           \" \"       \"*\"        \n",
       "13  ( 1 ) \" \"            \"*\"           \" \"       \"*\"        \n",
       "14  ( 1 ) \" \"            \"*\"           \" \"       \"*\"        \n",
       "15  ( 1 ) \" \"            \"*\"           \"*\"       \"*\"        \n",
       "16  ( 1 ) \" \"            \"*\"           \"*\"       \"*\"        \n",
       "17  ( 1 ) \" \"            \"*\"           \"*\"       \"*\"        \n",
       "18  ( 1 ) \"*\"            \"*\"           \"*\"       \"*\"        \n",
       "19  ( 1 ) \"*\"            \"*\"           \"*\"       \"*\"        \n",
       "20  ( 1 ) \"*\"            \"*\"           \"*\"       \"*\"        \n",
       "21  ( 1 ) \"*\"            \"*\"           \"*\"       \"*\"        \n",
       "22  ( 1 ) \"*\"            \"*\"           \"*\"       \"*\"        \n",
       "23  ( 1 ) \"*\"            \"*\"           \"*\"       \"*\"        \n",
       "24  ( 1 ) \"*\"            \"*\"           \"*\"       \"*\"        \n",
       "25  ( 1 ) \"*\"            \"*\"           \"*\"       \"*\"        \n",
       "26  ( 1 ) \"*\"            \"*\"           \"*\"       \"*\"        \n",
       "27  ( 1 ) \"*\"            \"*\"           \"*\"       \"*\"        \n",
       "28  ( 1 ) \"*\"            \"*\"           \"*\"       \"*\"        \n",
       "29  ( 1 ) \"*\"            \"*\"           \"*\"       \"*\"        \n",
       "30  ( 1 ) \"*\"            \"*\"           \"*\"       \"*\"        \n",
       "31  ( 1 ) \"*\"            \"*\"           \"*\"       \"*\"        \n",
       "32  ( 1 ) \"*\"            \"*\"           \"*\"       \"*\"        \n",
       "33  ( 1 ) \"*\"            \"*\"           \"*\"       \"*\"        \n",
       "34  ( 1 ) \"*\"            \"*\"           \"*\"       \"*\"        \n",
       "35  ( 1 ) \"*\"            \"*\"           \"*\"       \"*\"        \n",
       "36  ( 1 ) \"*\"            \"*\"           \"*\"       \"*\"        \n",
       "37  ( 1 ) \"*\"            \"*\"           \"*\"       \"*\"        \n",
       "38  ( 1 ) \"*\"            \"*\"           \"*\"       \"*\"        \n",
       "39  ( 1 ) \"*\"            \"*\"           \"*\"       \"*\"        \n",
       "40  ( 1 ) \"*\"            \"*\"           \"*\"       \"*\"        \n",
       "41  ( 1 ) \"*\"            \"*\"           \"*\"       \"*\"        \n",
       "42  ( 1 ) \"*\"            \"*\"           \"*\"       \"*\"        \n",
       "43  ( 1 ) \"*\"            \"*\"           \"*\"       \"*\"        \n",
       "44  ( 1 ) \"*\"            \"*\"           \"*\"       \"*\"        \n",
       "45  ( 1 ) \"*\"            \"*\"           \"*\"       \"*\"        "
      ]
     },
     "metadata": {},
     "output_type": "display_data"
    }
   ],
   "source": [
    "summary(regfit.fwd1)"
   ]
  },
  {
   "cell_type": "markdown",
   "metadata": {},
   "source": [
    "Below we run the forward subset selection without the feature \"housing\"."
   ]
  },
  {
   "cell_type": "code",
   "execution_count": 22,
   "metadata": {
    "collapsed": true
   },
   "outputs": [],
   "source": [
    "regfit.fwd2 = regsubsets(y~ age + job + marital + education+ default + loan + contact \n",
    "                        + month + day_of_week + duration + campaign + pdays + previous \n",
    "                        + poutcome + emp.var.rate + cons.price.idx + cons.conf.idx \n",
    "                        + euribor3m + nr.employed, bank.full, nvmax = 45, method=\"forward\")"
   ]
  },
  {
   "cell_type": "code",
   "execution_count": 23,
   "metadata": {
    "scrolled": true
   },
   "outputs": [
    {
     "data": {
      "text/plain": [
       "Subset selection object\n",
       "Call: regsubsets.formula(y ~ age + job + marital + education + default + \n",
       "    loan + contact + month + day_of_week + duration + campaign + \n",
       "    pdays + previous + poutcome + emp.var.rate + cons.price.idx + \n",
       "    cons.conf.idx + euribor3m + nr.employed, bank.full, nvmax = 45, \n",
       "    method = \"forward\")\n",
       "51 Variables  (and intercept)\n",
       "                             Forced in Forced out\n",
       "age                              FALSE      FALSE\n",
       "jobblue-collar                   FALSE      FALSE\n",
       "jobentrepreneur                  FALSE      FALSE\n",
       "jobhousemaid                     FALSE      FALSE\n",
       "jobmanagement                    FALSE      FALSE\n",
       "jobretired                       FALSE      FALSE\n",
       "jobself-employed                 FALSE      FALSE\n",
       "jobservices                      FALSE      FALSE\n",
       "jobstudent                       FALSE      FALSE\n",
       "jobtechnician                    FALSE      FALSE\n",
       "jobunemployed                    FALSE      FALSE\n",
       "jobunknown                       FALSE      FALSE\n",
       "maritalmarried                   FALSE      FALSE\n",
       "maritalsingle                    FALSE      FALSE\n",
       "maritalunknown                   FALSE      FALSE\n",
       "educationbasic.6y                FALSE      FALSE\n",
       "educationbasic.9y                FALSE      FALSE\n",
       "educationhigh.school             FALSE      FALSE\n",
       "educationilliterate              FALSE      FALSE\n",
       "educationprofessional.course     FALSE      FALSE\n",
       "educationuniversity.degree       FALSE      FALSE\n",
       "educationunknown                 FALSE      FALSE\n",
       "defaultunknown                   FALSE      FALSE\n",
       "defaultyes                       FALSE      FALSE\n",
       "loanunknown                      FALSE      FALSE\n",
       "loanyes                          FALSE      FALSE\n",
       "contacttelephone                 FALSE      FALSE\n",
       "monthaug                         FALSE      FALSE\n",
       "monthdec                         FALSE      FALSE\n",
       "monthjul                         FALSE      FALSE\n",
       "monthjun                         FALSE      FALSE\n",
       "monthmar                         FALSE      FALSE\n",
       "monthmay                         FALSE      FALSE\n",
       "monthnov                         FALSE      FALSE\n",
       "monthoct                         FALSE      FALSE\n",
       "monthsep                         FALSE      FALSE\n",
       "day_of_weekmon                   FALSE      FALSE\n",
       "day_of_weekthu                   FALSE      FALSE\n",
       "day_of_weektue                   FALSE      FALSE\n",
       "day_of_weekwed                   FALSE      FALSE\n",
       "duration                         FALSE      FALSE\n",
       "campaign                         FALSE      FALSE\n",
       "pdays                            FALSE      FALSE\n",
       "previous                         FALSE      FALSE\n",
       "poutcomenonexistent              FALSE      FALSE\n",
       "poutcomesuccess                  FALSE      FALSE\n",
       "emp.var.rate                     FALSE      FALSE\n",
       "cons.price.idx                   FALSE      FALSE\n",
       "cons.conf.idx                    FALSE      FALSE\n",
       "euribor3m                        FALSE      FALSE\n",
       "nr.employed                      FALSE      FALSE\n",
       "1 subsets of each size up to 45\n",
       "Selection Algorithm: forward\n",
       "          age jobblue-collar jobentrepreneur jobhousemaid jobmanagement\n",
       "1  ( 1 )  \" \" \" \"            \" \"             \" \"          \" \"          \n",
       "2  ( 1 )  \" \" \" \"            \" \"             \" \"          \" \"          \n",
       "3  ( 1 )  \" \" \" \"            \" \"             \" \"          \" \"          \n",
       "4  ( 1 )  \" \" \" \"            \" \"             \" \"          \" \"          \n",
       "5  ( 1 )  \" \" \" \"            \" \"             \" \"          \" \"          \n",
       "6  ( 1 )  \" \" \" \"            \" \"             \" \"          \" \"          \n",
       "7  ( 1 )  \" \" \" \"            \" \"             \" \"          \" \"          \n",
       "8  ( 1 )  \" \" \" \"            \" \"             \" \"          \" \"          \n",
       "9  ( 1 )  \" \" \" \"            \" \"             \" \"          \" \"          \n",
       "10  ( 1 ) \" \" \" \"            \" \"             \" \"          \" \"          \n",
       "11  ( 1 ) \" \" \"*\"            \" \"             \" \"          \" \"          \n",
       "12  ( 1 ) \" \" \"*\"            \" \"             \" \"          \" \"          \n",
       "13  ( 1 ) \" \" \"*\"            \" \"             \" \"          \" \"          \n",
       "14  ( 1 ) \" \" \"*\"            \" \"             \" \"          \" \"          \n",
       "15  ( 1 ) \" \" \"*\"            \" \"             \" \"          \" \"          \n",
       "16  ( 1 ) \" \" \"*\"            \" \"             \" \"          \" \"          \n",
       "17  ( 1 ) \" \" \"*\"            \" \"             \" \"          \" \"          \n",
       "18  ( 1 ) \" \" \"*\"            \" \"             \" \"          \" \"          \n",
       "19  ( 1 ) \" \" \"*\"            \" \"             \" \"          \" \"          \n",
       "20  ( 1 ) \" \" \"*\"            \" \"             \" \"          \" \"          \n",
       "21  ( 1 ) \" \" \"*\"            \" \"             \" \"          \" \"          \n",
       "22  ( 1 ) \" \" \"*\"            \" \"             \" \"          \" \"          \n",
       "23  ( 1 ) \" \" \"*\"            \" \"             \" \"          \" \"          \n",
       "24  ( 1 ) \" \" \"*\"            \" \"             \" \"          \" \"          \n",
       "25  ( 1 ) \" \" \"*\"            \" \"             \" \"          \" \"          \n",
       "26  ( 1 ) \" \" \"*\"            \" \"             \" \"          \" \"          \n",
       "27  ( 1 ) \" \" \"*\"            \" \"             \" \"          \" \"          \n",
       "28  ( 1 ) \" \" \"*\"            \" \"             \" \"          \" \"          \n",
       "29  ( 1 ) \" \" \"*\"            \" \"             \" \"          \" \"          \n",
       "30  ( 1 ) \" \" \"*\"            \" \"             \" \"          \" \"          \n",
       "31  ( 1 ) \" \" \"*\"            \" \"             \" \"          \" \"          \n",
       "32  ( 1 ) \" \" \"*\"            \"*\"             \" \"          \" \"          \n",
       "33  ( 1 ) \" \" \"*\"            \"*\"             \" \"          \"*\"          \n",
       "34  ( 1 ) \" \" \"*\"            \"*\"             \" \"          \"*\"          \n",
       "35  ( 1 ) \" \" \"*\"            \"*\"             \" \"          \"*\"          \n",
       "36  ( 1 ) \" \" \"*\"            \"*\"             \" \"          \"*\"          \n",
       "37  ( 1 ) \" \" \"*\"            \"*\"             \" \"          \"*\"          \n",
       "38  ( 1 ) \"*\" \"*\"            \"*\"             \" \"          \"*\"          \n",
       "39  ( 1 ) \"*\" \"*\"            \"*\"             \"*\"          \"*\"          \n",
       "40  ( 1 ) \"*\" \"*\"            \"*\"             \"*\"          \"*\"          \n",
       "41  ( 1 ) \"*\" \"*\"            \"*\"             \"*\"          \"*\"          \n",
       "42  ( 1 ) \"*\" \"*\"            \"*\"             \"*\"          \"*\"          \n",
       "43  ( 1 ) \"*\" \"*\"            \"*\"             \"*\"          \"*\"          \n",
       "44  ( 1 ) \"*\" \"*\"            \"*\"             \"*\"          \"*\"          \n",
       "45  ( 1 ) \"*\" \"*\"            \"*\"             \"*\"          \"*\"          \n",
       "          jobretired jobself-employed jobservices jobstudent jobtechnician\n",
       "1  ( 1 )  \" \"        \" \"              \" \"         \" \"        \" \"          \n",
       "2  ( 1 )  \" \"        \" \"              \" \"         \" \"        \" \"          \n",
       "3  ( 1 )  \" \"        \" \"              \" \"         \" \"        \" \"          \n",
       "4  ( 1 )  \" \"        \" \"              \" \"         \" \"        \" \"          \n",
       "5  ( 1 )  \" \"        \" \"              \" \"         \" \"        \" \"          \n",
       "6  ( 1 )  \" \"        \" \"              \" \"         \" \"        \" \"          \n",
       "7  ( 1 )  \" \"        \" \"              \" \"         \" \"        \" \"          \n",
       "8  ( 1 )  \" \"        \" \"              \" \"         \" \"        \" \"          \n",
       "9  ( 1 )  \" \"        \" \"              \" \"         \" \"        \" \"          \n",
       "10  ( 1 ) \" \"        \" \"              \" \"         \" \"        \" \"          \n",
       "11  ( 1 ) \" \"        \" \"              \" \"         \" \"        \" \"          \n",
       "12  ( 1 ) \" \"        \" \"              \" \"         \" \"        \" \"          \n",
       "13  ( 1 ) \" \"        \" \"              \" \"         \" \"        \" \"          \n",
       "14  ( 1 ) \" \"        \" \"              \" \"         \" \"        \" \"          \n",
       "15  ( 1 ) \" \"        \" \"              \" \"         \" \"        \" \"          \n",
       "16  ( 1 ) \" \"        \" \"              \" \"         \" \"        \" \"          \n",
       "17  ( 1 ) \" \"        \" \"              \" \"         \" \"        \" \"          \n",
       "18  ( 1 ) \" \"        \" \"              \" \"         \" \"        \" \"          \n",
       "19  ( 1 ) \" \"        \" \"              \" \"         \" \"        \" \"          \n",
       "20  ( 1 ) \"*\"        \" \"              \" \"         \" \"        \" \"          \n",
       "21  ( 1 ) \"*\"        \" \"              \" \"         \" \"        \" \"          \n",
       "22  ( 1 ) \"*\"        \" \"              \" \"         \"*\"        \" \"          \n",
       "23  ( 1 ) \"*\"        \" \"              \" \"         \"*\"        \" \"          \n",
       "24  ( 1 ) \"*\"        \" \"              \" \"         \"*\"        \" \"          \n",
       "25  ( 1 ) \"*\"        \" \"              \" \"         \"*\"        \" \"          \n",
       "26  ( 1 ) \"*\"        \" \"              \"*\"         \"*\"        \" \"          \n",
       "27  ( 1 ) \"*\"        \" \"              \"*\"         \"*\"        \" \"          \n",
       "28  ( 1 ) \"*\"        \" \"              \"*\"         \"*\"        \" \"          \n",
       "29  ( 1 ) \"*\"        \" \"              \"*\"         \"*\"        \" \"          \n",
       "30  ( 1 ) \"*\"        \" \"              \"*\"         \"*\"        \" \"          \n",
       "31  ( 1 ) \"*\"        \"*\"              \"*\"         \"*\"        \" \"          \n",
       "32  ( 1 ) \"*\"        \"*\"              \"*\"         \"*\"        \" \"          \n",
       "33  ( 1 ) \"*\"        \"*\"              \"*\"         \"*\"        \" \"          \n",
       "34  ( 1 ) \"*\"        \"*\"              \"*\"         \"*\"        \" \"          \n",
       "35  ( 1 ) \"*\"        \"*\"              \"*\"         \"*\"        \" \"          \n",
       "36  ( 1 ) \"*\"        \"*\"              \"*\"         \"*\"        \" \"          \n",
       "37  ( 1 ) \"*\"        \"*\"              \"*\"         \"*\"        \" \"          \n",
       "38  ( 1 ) \"*\"        \"*\"              \"*\"         \"*\"        \" \"          \n",
       "39  ( 1 ) \"*\"        \"*\"              \"*\"         \"*\"        \" \"          \n",
       "40  ( 1 ) \"*\"        \"*\"              \"*\"         \"*\"        \" \"          \n",
       "41  ( 1 ) \"*\"        \"*\"              \"*\"         \"*\"        \" \"          \n",
       "42  ( 1 ) \"*\"        \"*\"              \"*\"         \"*\"        \" \"          \n",
       "43  ( 1 ) \"*\"        \"*\"              \"*\"         \"*\"        \" \"          \n",
       "44  ( 1 ) \"*\"        \"*\"              \"*\"         \"*\"        \" \"          \n",
       "45  ( 1 ) \"*\"        \"*\"              \"*\"         \"*\"        \" \"          \n",
       "          jobunemployed jobunknown maritalmarried maritalsingle maritalunknown\n",
       "1  ( 1 )  \" \"           \" \"        \" \"            \" \"           \" \"           \n",
       "2  ( 1 )  \" \"           \" \"        \" \"            \" \"           \" \"           \n",
       "3  ( 1 )  \" \"           \" \"        \" \"            \" \"           \" \"           \n",
       "4  ( 1 )  \" \"           \" \"        \" \"            \" \"           \" \"           \n",
       "5  ( 1 )  \" \"           \" \"        \" \"            \" \"           \" \"           \n",
       "6  ( 1 )  \" \"           \" \"        \" \"            \" \"           \" \"           \n",
       "7  ( 1 )  \" \"           \" \"        \" \"            \" \"           \" \"           \n",
       "8  ( 1 )  \" \"           \" \"        \" \"            \" \"           \" \"           \n",
       "9  ( 1 )  \" \"           \" \"        \" \"            \" \"           \" \"           \n",
       "10  ( 1 ) \" \"           \" \"        \" \"            \" \"           \" \"           \n",
       "11  ( 1 ) \" \"           \" \"        \" \"            \" \"           \" \"           \n",
       "12  ( 1 ) \" \"           \" \"        \" \"            \" \"           \" \"           \n",
       "13  ( 1 ) \" \"           \" \"        \" \"            \" \"           \" \"           \n",
       "14  ( 1 ) \" \"           \" \"        \" \"            \" \"           \" \"           \n",
       "15  ( 1 ) \" \"           \" \"        \" \"            \" \"           \" \"           \n",
       "16  ( 1 ) \" \"           \" \"        \" \"            \" \"           \" \"           \n",
       "17  ( 1 ) \" \"           \" \"        \" \"            \" \"           \" \"           \n",
       "18  ( 1 ) \" \"           \" \"        \" \"            \" \"           \" \"           \n",
       "19  ( 1 ) \" \"           \" \"        \" \"            \" \"           \" \"           \n",
       "20  ( 1 ) \" \"           \" \"        \" \"            \" \"           \" \"           \n",
       "21  ( 1 ) \" \"           \" \"        \" \"            \" \"           \" \"           \n",
       "22  ( 1 ) \" \"           \" \"        \" \"            \" \"           \" \"           \n",
       "23  ( 1 ) \" \"           \" \"        \" \"            \" \"           \" \"           \n",
       "24  ( 1 ) \" \"           \" \"        \" \"            \" \"           \" \"           \n",
       "25  ( 1 ) \" \"           \" \"        \" \"            \" \"           \" \"           \n",
       "26  ( 1 ) \" \"           \" \"        \" \"            \" \"           \" \"           \n",
       "27  ( 1 ) \" \"           \" \"        \" \"            \" \"           \" \"           \n",
       "28  ( 1 ) \" \"           \" \"        \" \"            \" \"           \" \"           \n",
       "29  ( 1 ) \" \"           \" \"        \" \"            \" \"           \" \"           \n",
       "30  ( 1 ) \" \"           \" \"        \" \"            \" \"           \" \"           \n",
       "31  ( 1 ) \" \"           \" \"        \" \"            \" \"           \" \"           \n",
       "32  ( 1 ) \" \"           \" \"        \" \"            \" \"           \" \"           \n",
       "33  ( 1 ) \" \"           \" \"        \" \"            \" \"           \" \"           \n",
       "34  ( 1 ) \" \"           \" \"        \" \"            \" \"           \" \"           \n",
       "35  ( 1 ) \" \"           \" \"        \" \"            \" \"           \" \"           \n",
       "36  ( 1 ) \" \"           \" \"        \" \"            \"*\"           \" \"           \n",
       "37  ( 1 ) \" \"           \" \"        \" \"            \"*\"           \" \"           \n",
       "38  ( 1 ) \" \"           \" \"        \" \"            \"*\"           \" \"           \n",
       "39  ( 1 ) \" \"           \" \"        \" \"            \"*\"           \" \"           \n",
       "40  ( 1 ) \" \"           \" \"        \" \"            \"*\"           \" \"           \n",
       "41  ( 1 ) \" \"           \" \"        \" \"            \"*\"           \" \"           \n",
       "42  ( 1 ) \" \"           \" \"        \" \"            \"*\"           \" \"           \n",
       "43  ( 1 ) \" \"           \"*\"        \" \"            \"*\"           \" \"           \n",
       "44  ( 1 ) \" \"           \"*\"        \"*\"            \"*\"           \" \"           \n",
       "45  ( 1 ) \" \"           \"*\"        \"*\"            \"*\"           \" \"           \n",
       "          educationbasic.6y educationbasic.9y educationhigh.school\n",
       "1  ( 1 )  \" \"               \" \"               \" \"                 \n",
       "2  ( 1 )  \" \"               \" \"               \" \"                 \n",
       "3  ( 1 )  \" \"               \" \"               \" \"                 \n",
       "4  ( 1 )  \" \"               \" \"               \" \"                 \n",
       "5  ( 1 )  \" \"               \" \"               \" \"                 \n",
       "6  ( 1 )  \" \"               \" \"               \" \"                 \n",
       "7  ( 1 )  \" \"               \" \"               \" \"                 \n",
       "8  ( 1 )  \" \"               \" \"               \" \"                 \n",
       "9  ( 1 )  \" \"               \" \"               \" \"                 \n",
       "10  ( 1 ) \" \"               \" \"               \" \"                 \n",
       "11  ( 1 ) \" \"               \" \"               \" \"                 \n",
       "12  ( 1 ) \" \"               \" \"               \" \"                 \n",
       "13  ( 1 ) \" \"               \" \"               \" \"                 \n",
       "14  ( 1 ) \" \"               \" \"               \" \"                 \n",
       "15  ( 1 ) \" \"               \" \"               \" \"                 \n",
       "16  ( 1 ) \" \"               \" \"               \" \"                 \n",
       "17  ( 1 ) \" \"               \" \"               \" \"                 \n",
       "18  ( 1 ) \" \"               \" \"               \" \"                 \n",
       "19  ( 1 ) \" \"               \" \"               \" \"                 \n",
       "20  ( 1 ) \" \"               \" \"               \" \"                 \n",
       "21  ( 1 ) \" \"               \" \"               \" \"                 \n",
       "22  ( 1 ) \" \"               \" \"               \" \"                 \n",
       "23  ( 1 ) \" \"               \" \"               \" \"                 \n",
       "24  ( 1 ) \" \"               \" \"               \" \"                 \n",
       "25  ( 1 ) \" \"               \" \"               \" \"                 \n",
       "26  ( 1 ) \" \"               \" \"               \" \"                 \n",
       "27  ( 1 ) \" \"               \" \"               \" \"                 \n",
       "28  ( 1 ) \" \"               \" \"               \" \"                 \n",
       "29  ( 1 ) \" \"               \" \"               \" \"                 \n",
       "30  ( 1 ) \" \"               \" \"               \" \"                 \n",
       "31  ( 1 ) \" \"               \" \"               \" \"                 \n",
       "32  ( 1 ) \" \"               \" \"               \" \"                 \n",
       "33  ( 1 ) \" \"               \" \"               \" \"                 \n",
       "34  ( 1 ) \" \"               \" \"               \" \"                 \n",
       "35  ( 1 ) \"*\"               \" \"               \" \"                 \n",
       "36  ( 1 ) \"*\"               \" \"               \" \"                 \n",
       "37  ( 1 ) \"*\"               \" \"               \" \"                 \n",
       "38  ( 1 ) \"*\"               \" \"               \" \"                 \n",
       "39  ( 1 ) \"*\"               \" \"               \" \"                 \n",
       "40  ( 1 ) \"*\"               \" \"               \"*\"                 \n",
       "41  ( 1 ) \"*\"               \" \"               \"*\"                 \n",
       "42  ( 1 ) \"*\"               \" \"               \"*\"                 \n",
       "43  ( 1 ) \"*\"               \" \"               \"*\"                 \n",
       "44  ( 1 ) \"*\"               \" \"               \"*\"                 \n",
       "45  ( 1 ) \"*\"               \" \"               \"*\"                 \n",
       "          educationilliterate educationprofessional.course\n",
       "1  ( 1 )  \" \"                 \" \"                         \n",
       "2  ( 1 )  \" \"                 \" \"                         \n",
       "3  ( 1 )  \" \"                 \" \"                         \n",
       "4  ( 1 )  \" \"                 \" \"                         \n",
       "5  ( 1 )  \" \"                 \" \"                         \n",
       "6  ( 1 )  \" \"                 \" \"                         \n",
       "7  ( 1 )  \" \"                 \" \"                         \n",
       "8  ( 1 )  \" \"                 \" \"                         \n",
       "9  ( 1 )  \" \"                 \" \"                         \n",
       "10  ( 1 ) \" \"                 \" \"                         \n",
       "11  ( 1 ) \" \"                 \" \"                         \n",
       "12  ( 1 ) \" \"                 \" \"                         \n",
       "13  ( 1 ) \" \"                 \" \"                         \n",
       "14  ( 1 ) \" \"                 \" \"                         \n",
       "15  ( 1 ) \" \"                 \" \"                         \n",
       "16  ( 1 ) \" \"                 \" \"                         \n",
       "17  ( 1 ) \" \"                 \" \"                         \n",
       "18  ( 1 ) \" \"                 \" \"                         \n",
       "19  ( 1 ) \" \"                 \" \"                         \n",
       "20  ( 1 ) \" \"                 \" \"                         \n",
       "21  ( 1 ) \" \"                 \" \"                         \n",
       "22  ( 1 ) \" \"                 \" \"                         \n",
       "23  ( 1 ) \" \"                 \" \"                         \n",
       "24  ( 1 ) \" \"                 \" \"                         \n",
       "25  ( 1 ) \" \"                 \" \"                         \n",
       "26  ( 1 ) \" \"                 \" \"                         \n",
       "27  ( 1 ) \" \"                 \" \"                         \n",
       "28  ( 1 ) \" \"                 \" \"                         \n",
       "29  ( 1 ) \" \"                 \" \"                         \n",
       "30  ( 1 ) \"*\"                 \" \"                         \n",
       "31  ( 1 ) \"*\"                 \" \"                         \n",
       "32  ( 1 ) \"*\"                 \" \"                         \n",
       "33  ( 1 ) \"*\"                 \" \"                         \n",
       "34  ( 1 ) \"*\"                 \" \"                         \n",
       "35  ( 1 ) \"*\"                 \" \"                         \n",
       "36  ( 1 ) \"*\"                 \" \"                         \n",
       "37  ( 1 ) \"*\"                 \"*\"                         \n",
       "38  ( 1 ) \"*\"                 \"*\"                         \n",
       "39  ( 1 ) \"*\"                 \"*\"                         \n",
       "40  ( 1 ) \"*\"                 \"*\"                         \n",
       "41  ( 1 ) \"*\"                 \"*\"                         \n",
       "42  ( 1 ) \"*\"                 \"*\"                         \n",
       "43  ( 1 ) \"*\"                 \"*\"                         \n",
       "44  ( 1 ) \"*\"                 \"*\"                         \n",
       "45  ( 1 ) \"*\"                 \"*\"                         \n",
       "          educationuniversity.degree educationunknown defaultunknown defaultyes\n",
       "1  ( 1 )  \" \"                        \" \"              \" \"            \" \"       \n",
       "2  ( 1 )  \" \"                        \" \"              \" \"            \" \"       \n",
       "3  ( 1 )  \" \"                        \" \"              \" \"            \" \"       \n",
       "4  ( 1 )  \" \"                        \" \"              \" \"            \" \"       \n",
       "5  ( 1 )  \" \"                        \" \"              \" \"            \" \"       \n",
       "6  ( 1 )  \" \"                        \" \"              \" \"            \" \"       \n",
       "7  ( 1 )  \" \"                        \" \"              \" \"            \" \"       \n",
       "8  ( 1 )  \" \"                        \" \"              \" \"            \" \"       \n",
       "9  ( 1 )  \" \"                        \" \"              \" \"            \" \"       \n",
       "10  ( 1 ) \" \"                        \" \"              \" \"            \" \"       \n",
       "11  ( 1 ) \" \"                        \" \"              \" \"            \" \"       \n",
       "12  ( 1 ) \" \"                        \" \"              \" \"            \" \"       \n",
       "13  ( 1 ) \" \"                        \" \"              \" \"            \" \"       \n",
       "14  ( 1 ) \" \"                        \" \"              \" \"            \" \"       \n",
       "15  ( 1 ) \" \"                        \" \"              \" \"            \" \"       \n",
       "16  ( 1 ) \" \"                        \" \"              \" \"            \" \"       \n",
       "17  ( 1 ) \" \"                        \" \"              \" \"            \" \"       \n",
       "18  ( 1 ) \" \"                        \" \"              \" \"            \" \"       \n",
       "19  ( 1 ) \" \"                        \" \"              \" \"            \" \"       \n",
       "20  ( 1 ) \" \"                        \" \"              \" \"            \" \"       \n",
       "21  ( 1 ) \" \"                        \" \"              \"*\"            \" \"       \n",
       "22  ( 1 ) \" \"                        \" \"              \"*\"            \" \"       \n",
       "23  ( 1 ) \" \"                        \" \"              \"*\"            \" \"       \n",
       "24  ( 1 ) \"*\"                        \" \"              \"*\"            \" \"       \n",
       "25  ( 1 ) \"*\"                        \" \"              \"*\"            \" \"       \n",
       "26  ( 1 ) \"*\"                        \" \"              \"*\"            \" \"       \n",
       "27  ( 1 ) \"*\"                        \" \"              \"*\"            \" \"       \n",
       "28  ( 1 ) \"*\"                        \" \"              \"*\"            \" \"       \n",
       "29  ( 1 ) \"*\"                        \" \"              \"*\"            \" \"       \n",
       "30  ( 1 ) \"*\"                        \" \"              \"*\"            \" \"       \n",
       "31  ( 1 ) \"*\"                        \" \"              \"*\"            \" \"       \n",
       "32  ( 1 ) \"*\"                        \" \"              \"*\"            \" \"       \n",
       "33  ( 1 ) \"*\"                        \" \"              \"*\"            \" \"       \n",
       "34  ( 1 ) \"*\"                        \"*\"              \"*\"            \" \"       \n",
       "35  ( 1 ) \"*\"                        \"*\"              \"*\"            \" \"       \n",
       "36  ( 1 ) \"*\"                        \"*\"              \"*\"            \" \"       \n",
       "37  ( 1 ) \"*\"                        \"*\"              \"*\"            \" \"       \n",
       "38  ( 1 ) \"*\"                        \"*\"              \"*\"            \" \"       \n",
       "39  ( 1 ) \"*\"                        \"*\"              \"*\"            \" \"       \n",
       "40  ( 1 ) \"*\"                        \"*\"              \"*\"            \" \"       \n",
       "41  ( 1 ) \"*\"                        \"*\"              \"*\"            \" \"       \n",
       "42  ( 1 ) \"*\"                        \"*\"              \"*\"            \" \"       \n",
       "43  ( 1 ) \"*\"                        \"*\"              \"*\"            \" \"       \n",
       "44  ( 1 ) \"*\"                        \"*\"              \"*\"            \" \"       \n",
       "45  ( 1 ) \"*\"                        \"*\"              \"*\"            \" \"       \n",
       "          loanunknown loanyes contacttelephone monthaug monthdec monthjul\n",
       "1  ( 1 )  \" \"         \" \"     \" \"              \" \"      \" \"      \" \"     \n",
       "2  ( 1 )  \" \"         \" \"     \" \"              \" \"      \" \"      \" \"     \n",
       "3  ( 1 )  \" \"         \" \"     \" \"              \" \"      \" \"      \" \"     \n",
       "4  ( 1 )  \" \"         \" \"     \" \"              \" \"      \" \"      \" \"     \n",
       "5  ( 1 )  \" \"         \" \"     \" \"              \" \"      \" \"      \" \"     \n",
       "6  ( 1 )  \" \"         \" \"     \" \"              \" \"      \" \"      \" \"     \n",
       "7  ( 1 )  \" \"         \" \"     \" \"              \" \"      \" \"      \" \"     \n",
       "8  ( 1 )  \" \"         \" \"     \" \"              \" \"      \" \"      \" \"     \n",
       "9  ( 1 )  \" \"         \" \"     \" \"              \" \"      \" \"      \"*\"     \n",
       "10  ( 1 ) \" \"         \" \"     \" \"              \" \"      \" \"      \"*\"     \n",
       "11  ( 1 ) \" \"         \" \"     \" \"              \" \"      \" \"      \"*\"     \n",
       "12  ( 1 ) \" \"         \" \"     \"*\"              \" \"      \" \"      \"*\"     \n",
       "13  ( 1 ) \" \"         \" \"     \"*\"              \" \"      \" \"      \"*\"     \n",
       "14  ( 1 ) \" \"         \" \"     \"*\"              \" \"      \" \"      \"*\"     \n",
       "15  ( 1 ) \" \"         \" \"     \"*\"              \" \"      \" \"      \"*\"     \n",
       "16  ( 1 ) \" \"         \" \"     \"*\"              \" \"      \" \"      \"*\"     \n",
       "17  ( 1 ) \" \"         \" \"     \"*\"              \"*\"      \" \"      \"*\"     \n",
       "18  ( 1 ) \" \"         \" \"     \"*\"              \"*\"      \" \"      \"*\"     \n",
       "19  ( 1 ) \" \"         \" \"     \"*\"              \"*\"      \"*\"      \"*\"     \n",
       "20  ( 1 ) \" \"         \" \"     \"*\"              \"*\"      \"*\"      \"*\"     \n",
       "21  ( 1 ) \" \"         \" \"     \"*\"              \"*\"      \"*\"      \"*\"     \n",
       "22  ( 1 ) \" \"         \" \"     \"*\"              \"*\"      \"*\"      \"*\"     \n",
       "23  ( 1 ) \" \"         \" \"     \"*\"              \"*\"      \"*\"      \"*\"     \n",
       "24  ( 1 ) \" \"         \" \"     \"*\"              \"*\"      \"*\"      \"*\"     \n",
       "25  ( 1 ) \" \"         \" \"     \"*\"              \"*\"      \"*\"      \"*\"     \n",
       "26  ( 1 ) \" \"         \" \"     \"*\"              \"*\"      \"*\"      \"*\"     \n",
       "27  ( 1 ) \" \"         \" \"     \"*\"              \"*\"      \"*\"      \"*\"     \n",
       "28  ( 1 ) \" \"         \" \"     \"*\"              \"*\"      \"*\"      \"*\"     \n",
       "29  ( 1 ) \" \"         \" \"     \"*\"              \"*\"      \"*\"      \"*\"     \n",
       "30  ( 1 ) \" \"         \" \"     \"*\"              \"*\"      \"*\"      \"*\"     \n",
       "31  ( 1 ) \" \"         \" \"     \"*\"              \"*\"      \"*\"      \"*\"     \n",
       "32  ( 1 ) \" \"         \" \"     \"*\"              \"*\"      \"*\"      \"*\"     \n",
       "33  ( 1 ) \" \"         \" \"     \"*\"              \"*\"      \"*\"      \"*\"     \n",
       "34  ( 1 ) \" \"         \" \"     \"*\"              \"*\"      \"*\"      \"*\"     \n",
       "35  ( 1 ) \" \"         \" \"     \"*\"              \"*\"      \"*\"      \"*\"     \n",
       "36  ( 1 ) \" \"         \" \"     \"*\"              \"*\"      \"*\"      \"*\"     \n",
       "37  ( 1 ) \" \"         \" \"     \"*\"              \"*\"      \"*\"      \"*\"     \n",
       "38  ( 1 ) \" \"         \" \"     \"*\"              \"*\"      \"*\"      \"*\"     \n",
       "39  ( 1 ) \" \"         \" \"     \"*\"              \"*\"      \"*\"      \"*\"     \n",
       "40  ( 1 ) \" \"         \" \"     \"*\"              \"*\"      \"*\"      \"*\"     \n",
       "41  ( 1 ) \" \"         \"*\"     \"*\"              \"*\"      \"*\"      \"*\"     \n",
       "42  ( 1 ) \" \"         \"*\"     \"*\"              \"*\"      \"*\"      \"*\"     \n",
       "43  ( 1 ) \" \"         \"*\"     \"*\"              \"*\"      \"*\"      \"*\"     \n",
       "44  ( 1 ) \" \"         \"*\"     \"*\"              \"*\"      \"*\"      \"*\"     \n",
       "45  ( 1 ) \" \"         \"*\"     \"*\"              \"*\"      \"*\"      \"*\"     \n",
       "          monthjun monthmar monthmay monthnov monthoct monthsep day_of_weekmon\n",
       "1  ( 1 )  \" \"      \" \"      \" \"      \" \"      \" \"      \" \"      \" \"           \n",
       "2  ( 1 )  \" \"      \" \"      \" \"      \" \"      \" \"      \" \"      \" \"           \n",
       "3  ( 1 )  \" \"      \" \"      \" \"      \" \"      \" \"      \" \"      \" \"           \n",
       "4  ( 1 )  \" \"      \" \"      \"*\"      \" \"      \" \"      \" \"      \" \"           \n",
       "5  ( 1 )  \" \"      \" \"      \"*\"      \" \"      \" \"      \" \"      \" \"           \n",
       "6  ( 1 )  \" \"      \"*\"      \"*\"      \" \"      \" \"      \" \"      \" \"           \n",
       "7  ( 1 )  \" \"      \"*\"      \"*\"      \" \"      \" \"      \" \"      \" \"           \n",
       "8  ( 1 )  \" \"      \"*\"      \"*\"      \" \"      \" \"      \" \"      \" \"           \n",
       "9  ( 1 )  \" \"      \"*\"      \"*\"      \" \"      \" \"      \" \"      \" \"           \n",
       "10  ( 1 ) \"*\"      \"*\"      \"*\"      \" \"      \" \"      \" \"      \" \"           \n",
       "11  ( 1 ) \"*\"      \"*\"      \"*\"      \" \"      \" \"      \" \"      \" \"           \n",
       "12  ( 1 ) \"*\"      \"*\"      \"*\"      \" \"      \" \"      \" \"      \" \"           \n",
       "13  ( 1 ) \"*\"      \"*\"      \"*\"      \" \"      \" \"      \" \"      \"*\"           \n",
       "14  ( 1 ) \"*\"      \"*\"      \"*\"      \" \"      \" \"      \"*\"      \"*\"           \n",
       "15  ( 1 ) \"*\"      \"*\"      \"*\"      \" \"      \" \"      \"*\"      \"*\"           \n",
       "16  ( 1 ) \"*\"      \"*\"      \"*\"      \" \"      \" \"      \"*\"      \"*\"           \n",
       "17  ( 1 ) \"*\"      \"*\"      \"*\"      \" \"      \" \"      \"*\"      \"*\"           \n",
       "18  ( 1 ) \"*\"      \"*\"      \"*\"      \" \"      \" \"      \"*\"      \"*\"           \n",
       "19  ( 1 ) \"*\"      \"*\"      \"*\"      \" \"      \" \"      \"*\"      \"*\"           \n",
       "20  ( 1 ) \"*\"      \"*\"      \"*\"      \" \"      \" \"      \"*\"      \"*\"           \n",
       "21  ( 1 ) \"*\"      \"*\"      \"*\"      \" \"      \" \"      \"*\"      \"*\"           \n",
       "22  ( 1 ) \"*\"      \"*\"      \"*\"      \" \"      \" \"      \"*\"      \"*\"           \n",
       "23  ( 1 ) \"*\"      \"*\"      \"*\"      \"*\"      \" \"      \"*\"      \"*\"           \n",
       "24  ( 1 ) \"*\"      \"*\"      \"*\"      \"*\"      \" \"      \"*\"      \"*\"           \n",
       "25  ( 1 ) \"*\"      \"*\"      \"*\"      \"*\"      \" \"      \"*\"      \"*\"           \n",
       "26  ( 1 ) \"*\"      \"*\"      \"*\"      \"*\"      \" \"      \"*\"      \"*\"           \n",
       "27  ( 1 ) \"*\"      \"*\"      \"*\"      \"*\"      \"*\"      \"*\"      \"*\"           \n",
       "28  ( 1 ) \"*\"      \"*\"      \"*\"      \"*\"      \"*\"      \"*\"      \"*\"           \n",
       "29  ( 1 ) \"*\"      \"*\"      \"*\"      \"*\"      \"*\"      \"*\"      \"*\"           \n",
       "30  ( 1 ) \"*\"      \"*\"      \"*\"      \"*\"      \"*\"      \"*\"      \"*\"           \n",
       "31  ( 1 ) \"*\"      \"*\"      \"*\"      \"*\"      \"*\"      \"*\"      \"*\"           \n",
       "32  ( 1 ) \"*\"      \"*\"      \"*\"      \"*\"      \"*\"      \"*\"      \"*\"           \n",
       "33  ( 1 ) \"*\"      \"*\"      \"*\"      \"*\"      \"*\"      \"*\"      \"*\"           \n",
       "34  ( 1 ) \"*\"      \"*\"      \"*\"      \"*\"      \"*\"      \"*\"      \"*\"           \n",
       "35  ( 1 ) \"*\"      \"*\"      \"*\"      \"*\"      \"*\"      \"*\"      \"*\"           \n",
       "36  ( 1 ) \"*\"      \"*\"      \"*\"      \"*\"      \"*\"      \"*\"      \"*\"           \n",
       "37  ( 1 ) \"*\"      \"*\"      \"*\"      \"*\"      \"*\"      \"*\"      \"*\"           \n",
       "38  ( 1 ) \"*\"      \"*\"      \"*\"      \"*\"      \"*\"      \"*\"      \"*\"           \n",
       "39  ( 1 ) \"*\"      \"*\"      \"*\"      \"*\"      \"*\"      \"*\"      \"*\"           \n",
       "40  ( 1 ) \"*\"      \"*\"      \"*\"      \"*\"      \"*\"      \"*\"      \"*\"           \n",
       "41  ( 1 ) \"*\"      \"*\"      \"*\"      \"*\"      \"*\"      \"*\"      \"*\"           \n",
       "42  ( 1 ) \"*\"      \"*\"      \"*\"      \"*\"      \"*\"      \"*\"      \"*\"           \n",
       "43  ( 1 ) \"*\"      \"*\"      \"*\"      \"*\"      \"*\"      \"*\"      \"*\"           \n",
       "44  ( 1 ) \"*\"      \"*\"      \"*\"      \"*\"      \"*\"      \"*\"      \"*\"           \n",
       "45  ( 1 ) \"*\"      \"*\"      \"*\"      \"*\"      \"*\"      \"*\"      \"*\"           \n",
       "          day_of_weekthu day_of_weektue day_of_weekwed duration campaign pdays\n",
       "1  ( 1 )  \" \"            \" \"            \" \"            \"*\"      \" \"      \" \"  \n",
       "2  ( 1 )  \" \"            \" \"            \" \"            \"*\"      \" \"      \" \"  \n",
       "3  ( 1 )  \" \"            \" \"            \" \"            \"*\"      \" \"      \"*\"  \n",
       "4  ( 1 )  \" \"            \" \"            \" \"            \"*\"      \" \"      \"*\"  \n",
       "5  ( 1 )  \" \"            \" \"            \" \"            \"*\"      \" \"      \"*\"  \n",
       "6  ( 1 )  \" \"            \" \"            \" \"            \"*\"      \" \"      \"*\"  \n",
       "7  ( 1 )  \" \"            \" \"            \" \"            \"*\"      \" \"      \"*\"  \n",
       "8  ( 1 )  \" \"            \" \"            \" \"            \"*\"      \" \"      \"*\"  \n",
       "9  ( 1 )  \" \"            \" \"            \" \"            \"*\"      \" \"      \"*\"  \n",
       "10  ( 1 ) \" \"            \" \"            \" \"            \"*\"      \" \"      \"*\"  \n",
       "11  ( 1 ) \" \"            \" \"            \" \"            \"*\"      \" \"      \"*\"  \n",
       "12  ( 1 ) \" \"            \" \"            \" \"            \"*\"      \" \"      \"*\"  \n",
       "13  ( 1 ) \" \"            \" \"            \" \"            \"*\"      \" \"      \"*\"  \n",
       "14  ( 1 ) \" \"            \" \"            \" \"            \"*\"      \" \"      \"*\"  \n",
       "15  ( 1 ) \" \"            \" \"            \" \"            \"*\"      \" \"      \"*\"  \n",
       "16  ( 1 ) \" \"            \" \"            \" \"            \"*\"      \" \"      \"*\"  \n",
       "17  ( 1 ) \" \"            \" \"            \" \"            \"*\"      \" \"      \"*\"  \n",
       "18  ( 1 ) \" \"            \" \"            \" \"            \"*\"      \" \"      \"*\"  \n",
       "19  ( 1 ) \" \"            \" \"            \" \"            \"*\"      \" \"      \"*\"  \n",
       "20  ( 1 ) \" \"            \" \"            \" \"            \"*\"      \" \"      \"*\"  \n",
       "21  ( 1 ) \" \"            \" \"            \" \"            \"*\"      \" \"      \"*\"  \n",
       "22  ( 1 ) \" \"            \" \"            \" \"            \"*\"      \" \"      \"*\"  \n",
       "23  ( 1 ) \" \"            \" \"            \" \"            \"*\"      \" \"      \"*\"  \n",
       "24  ( 1 ) \" \"            \" \"            \" \"            \"*\"      \" \"      \"*\"  \n",
       "25  ( 1 ) \" \"            \" \"            \" \"            \"*\"      \"*\"      \"*\"  \n",
       "26  ( 1 ) \" \"            \" \"            \" \"            \"*\"      \"*\"      \"*\"  \n",
       "27  ( 1 ) \" \"            \" \"            \" \"            \"*\"      \"*\"      \"*\"  \n",
       "28  ( 1 ) \" \"            \" \"            \"*\"            \"*\"      \"*\"      \"*\"  \n",
       "29  ( 1 ) \" \"            \" \"            \"*\"            \"*\"      \"*\"      \"*\"  \n",
       "30  ( 1 ) \" \"            \" \"            \"*\"            \"*\"      \"*\"      \"*\"  \n",
       "31  ( 1 ) \" \"            \" \"            \"*\"            \"*\"      \"*\"      \"*\"  \n",
       "32  ( 1 ) \" \"            \" \"            \"*\"            \"*\"      \"*\"      \"*\"  \n",
       "33  ( 1 ) \" \"            \" \"            \"*\"            \"*\"      \"*\"      \"*\"  \n",
       "34  ( 1 ) \" \"            \" \"            \"*\"            \"*\"      \"*\"      \"*\"  \n",
       "35  ( 1 ) \" \"            \" \"            \"*\"            \"*\"      \"*\"      \"*\"  \n",
       "36  ( 1 ) \" \"            \" \"            \"*\"            \"*\"      \"*\"      \"*\"  \n",
       "37  ( 1 ) \" \"            \" \"            \"*\"            \"*\"      \"*\"      \"*\"  \n",
       "38  ( 1 ) \" \"            \" \"            \"*\"            \"*\"      \"*\"      \"*\"  \n",
       "39  ( 1 ) \" \"            \" \"            \"*\"            \"*\"      \"*\"      \"*\"  \n",
       "40  ( 1 ) \" \"            \" \"            \"*\"            \"*\"      \"*\"      \"*\"  \n",
       "41  ( 1 ) \" \"            \" \"            \"*\"            \"*\"      \"*\"      \"*\"  \n",
       "42  ( 1 ) \"*\"            \" \"            \"*\"            \"*\"      \"*\"      \"*\"  \n",
       "43  ( 1 ) \"*\"            \" \"            \"*\"            \"*\"      \"*\"      \"*\"  \n",
       "44  ( 1 ) \"*\"            \" \"            \"*\"            \"*\"      \"*\"      \"*\"  \n",
       "45  ( 1 ) \"*\"            \"*\"            \"*\"            \"*\"      \"*\"      \"*\"  \n",
       "          previous poutcomenonexistent poutcomesuccess emp.var.rate\n",
       "1  ( 1 )  \" \"      \" \"                 \" \"             \" \"         \n",
       "2  ( 1 )  \" \"      \" \"                 \" \"             \" \"         \n",
       "3  ( 1 )  \" \"      \" \"                 \" \"             \" \"         \n",
       "4  ( 1 )  \" \"      \" \"                 \" \"             \" \"         \n",
       "5  ( 1 )  \" \"      \" \"                 \" \"             \" \"         \n",
       "6  ( 1 )  \" \"      \" \"                 \" \"             \" \"         \n",
       "7  ( 1 )  \" \"      \"*\"                 \" \"             \" \"         \n",
       "8  ( 1 )  \" \"      \"*\"                 \"*\"             \" \"         \n",
       "9  ( 1 )  \" \"      \"*\"                 \"*\"             \" \"         \n",
       "10  ( 1 ) \" \"      \"*\"                 \"*\"             \" \"         \n",
       "11  ( 1 ) \" \"      \"*\"                 \"*\"             \" \"         \n",
       "12  ( 1 ) \" \"      \"*\"                 \"*\"             \" \"         \n",
       "13  ( 1 ) \" \"      \"*\"                 \"*\"             \" \"         \n",
       "14  ( 1 ) \" \"      \"*\"                 \"*\"             \" \"         \n",
       "15  ( 1 ) \" \"      \"*\"                 \"*\"             \" \"         \n",
       "16  ( 1 ) \" \"      \"*\"                 \"*\"             \"*\"         \n",
       "17  ( 1 ) \" \"      \"*\"                 \"*\"             \"*\"         \n",
       "18  ( 1 ) \" \"      \"*\"                 \"*\"             \"*\"         \n",
       "19  ( 1 ) \" \"      \"*\"                 \"*\"             \"*\"         \n",
       "20  ( 1 ) \" \"      \"*\"                 \"*\"             \"*\"         \n",
       "21  ( 1 ) \" \"      \"*\"                 \"*\"             \"*\"         \n",
       "22  ( 1 ) \" \"      \"*\"                 \"*\"             \"*\"         \n",
       "23  ( 1 ) \" \"      \"*\"                 \"*\"             \"*\"         \n",
       "24  ( 1 ) \" \"      \"*\"                 \"*\"             \"*\"         \n",
       "25  ( 1 ) \" \"      \"*\"                 \"*\"             \"*\"         \n",
       "26  ( 1 ) \" \"      \"*\"                 \"*\"             \"*\"         \n",
       "27  ( 1 ) \" \"      \"*\"                 \"*\"             \"*\"         \n",
       "28  ( 1 ) \" \"      \"*\"                 \"*\"             \"*\"         \n",
       "29  ( 1 ) \"*\"      \"*\"                 \"*\"             \"*\"         \n",
       "30  ( 1 ) \"*\"      \"*\"                 \"*\"             \"*\"         \n",
       "31  ( 1 ) \"*\"      \"*\"                 \"*\"             \"*\"         \n",
       "32  ( 1 ) \"*\"      \"*\"                 \"*\"             \"*\"         \n",
       "33  ( 1 ) \"*\"      \"*\"                 \"*\"             \"*\"         \n",
       "34  ( 1 ) \"*\"      \"*\"                 \"*\"             \"*\"         \n",
       "35  ( 1 ) \"*\"      \"*\"                 \"*\"             \"*\"         \n",
       "36  ( 1 ) \"*\"      \"*\"                 \"*\"             \"*\"         \n",
       "37  ( 1 ) \"*\"      \"*\"                 \"*\"             \"*\"         \n",
       "38  ( 1 ) \"*\"      \"*\"                 \"*\"             \"*\"         \n",
       "39  ( 1 ) \"*\"      \"*\"                 \"*\"             \"*\"         \n",
       "40  ( 1 ) \"*\"      \"*\"                 \"*\"             \"*\"         \n",
       "41  ( 1 ) \"*\"      \"*\"                 \"*\"             \"*\"         \n",
       "42  ( 1 ) \"*\"      \"*\"                 \"*\"             \"*\"         \n",
       "43  ( 1 ) \"*\"      \"*\"                 \"*\"             \"*\"         \n",
       "44  ( 1 ) \"*\"      \"*\"                 \"*\"             \"*\"         \n",
       "45  ( 1 ) \"*\"      \"*\"                 \"*\"             \"*\"         \n",
       "          cons.price.idx cons.conf.idx euribor3m nr.employed\n",
       "1  ( 1 )  \" \"            \" \"           \" \"       \" \"        \n",
       "2  ( 1 )  \" \"            \" \"           \" \"       \"*\"        \n",
       "3  ( 1 )  \" \"            \" \"           \" \"       \"*\"        \n",
       "4  ( 1 )  \" \"            \" \"           \" \"       \"*\"        \n",
       "5  ( 1 )  \" \"            \"*\"           \" \"       \"*\"        \n",
       "6  ( 1 )  \" \"            \"*\"           \" \"       \"*\"        \n",
       "7  ( 1 )  \" \"            \"*\"           \" \"       \"*\"        \n",
       "8  ( 1 )  \" \"            \"*\"           \" \"       \"*\"        \n",
       "9  ( 1 )  \" \"            \"*\"           \" \"       \"*\"        \n",
       "10  ( 1 ) \" \"            \"*\"           \" \"       \"*\"        \n",
       "11  ( 1 ) \" \"            \"*\"           \" \"       \"*\"        \n",
       "12  ( 1 ) \" \"            \"*\"           \" \"       \"*\"        \n",
       "13  ( 1 ) \" \"            \"*\"           \" \"       \"*\"        \n",
       "14  ( 1 ) \" \"            \"*\"           \" \"       \"*\"        \n",
       "15  ( 1 ) \" \"            \"*\"           \"*\"       \"*\"        \n",
       "16  ( 1 ) \" \"            \"*\"           \"*\"       \"*\"        \n",
       "17  ( 1 ) \" \"            \"*\"           \"*\"       \"*\"        \n",
       "18  ( 1 ) \"*\"            \"*\"           \"*\"       \"*\"        \n",
       "19  ( 1 ) \"*\"            \"*\"           \"*\"       \"*\"        \n",
       "20  ( 1 ) \"*\"            \"*\"           \"*\"       \"*\"        \n",
       "21  ( 1 ) \"*\"            \"*\"           \"*\"       \"*\"        \n",
       "22  ( 1 ) \"*\"            \"*\"           \"*\"       \"*\"        \n",
       "23  ( 1 ) \"*\"            \"*\"           \"*\"       \"*\"        \n",
       "24  ( 1 ) \"*\"            \"*\"           \"*\"       \"*\"        \n",
       "25  ( 1 ) \"*\"            \"*\"           \"*\"       \"*\"        \n",
       "26  ( 1 ) \"*\"            \"*\"           \"*\"       \"*\"        \n",
       "27  ( 1 ) \"*\"            \"*\"           \"*\"       \"*\"        \n",
       "28  ( 1 ) \"*\"            \"*\"           \"*\"       \"*\"        \n",
       "29  ( 1 ) \"*\"            \"*\"           \"*\"       \"*\"        \n",
       "30  ( 1 ) \"*\"            \"*\"           \"*\"       \"*\"        \n",
       "31  ( 1 ) \"*\"            \"*\"           \"*\"       \"*\"        \n",
       "32  ( 1 ) \"*\"            \"*\"           \"*\"       \"*\"        \n",
       "33  ( 1 ) \"*\"            \"*\"           \"*\"       \"*\"        \n",
       "34  ( 1 ) \"*\"            \"*\"           \"*\"       \"*\"        \n",
       "35  ( 1 ) \"*\"            \"*\"           \"*\"       \"*\"        \n",
       "36  ( 1 ) \"*\"            \"*\"           \"*\"       \"*\"        \n",
       "37  ( 1 ) \"*\"            \"*\"           \"*\"       \"*\"        \n",
       "38  ( 1 ) \"*\"            \"*\"           \"*\"       \"*\"        \n",
       "39  ( 1 ) \"*\"            \"*\"           \"*\"       \"*\"        \n",
       "40  ( 1 ) \"*\"            \"*\"           \"*\"       \"*\"        \n",
       "41  ( 1 ) \"*\"            \"*\"           \"*\"       \"*\"        \n",
       "42  ( 1 ) \"*\"            \"*\"           \"*\"       \"*\"        \n",
       "43  ( 1 ) \"*\"            \"*\"           \"*\"       \"*\"        \n",
       "44  ( 1 ) \"*\"            \"*\"           \"*\"       \"*\"        \n",
       "45  ( 1 ) \"*\"            \"*\"           \"*\"       \"*\"        "
      ]
     },
     "metadata": {},
     "output_type": "display_data"
    }
   ],
   "source": [
    "summary(regfit.fwd2)"
   ]
  },
  {
   "cell_type": "markdown",
   "metadata": {},
   "source": [
    "Comparing the 2 forward selection results, we found that the feature \"loan\" has little impact on the response variable so we prefer the first selection model than the second one. Next, we use the criteria r square, adjusted r square, Cp value and AIC value to select the best number of predictors, out of the output from the second selection model."
   ]
  },
  {
   "cell_type": "code",
   "execution_count": 31,
   "metadata": {
    "collapsed": true
   },
   "outputs": [],
   "source": [
    "regfit.fwd <- regfit.fwd1"
   ]
  },
  {
   "cell_type": "code",
   "execution_count": 32,
   "metadata": {
    "collapsed": true
   },
   "outputs": [],
   "source": [
    "reg.summary <- summary(regfit.fwd)"
   ]
  },
  {
   "cell_type": "markdown",
   "metadata": {},
   "source": [
    "Output ajusted r square. The best subset chosen by the adjr2 value contains 36 members."
   ]
  },
  {
   "cell_type": "code",
   "execution_count": 33,
   "metadata": {
    "collapsed": true
   },
   "outputs": [],
   "source": [
    "max.adjr2 <- which.max(reg.summary$adjr2)"
   ]
  },
  {
   "cell_type": "code",
   "execution_count": 34,
   "metadata": {},
   "outputs": [
    {
     "data": {
      "text/html": [
       "36"
      ],
      "text/latex": [
       "36"
      ],
      "text/markdown": [
       "36"
      ],
      "text/plain": [
       "[1] 36"
      ]
     },
     "metadata": {},
     "output_type": "display_data"
    }
   ],
   "source": [
    "max.adjr2"
   ]
  },
  {
   "cell_type": "markdown",
   "metadata": {},
   "source": [
    "Output the Cp value. we see the best subset chosen by the Cp value contains 30 predictors."
   ]
  },
  {
   "cell_type": "code",
   "execution_count": 35,
   "metadata": {
    "collapsed": true
   },
   "outputs": [],
   "source": [
    "min.cp <- which.min(reg.summary$cp)"
   ]
  },
  {
   "cell_type": "code",
   "execution_count": 36,
   "metadata": {},
   "outputs": [
    {
     "data": {
      "text/html": [
       "30"
      ],
      "text/latex": [
       "30"
      ],
      "text/markdown": [
       "30"
      ],
      "text/plain": [
       "[1] 30"
      ]
     },
     "metadata": {},
     "output_type": "display_data"
    }
   ],
   "source": [
    "min.cp"
   ]
  },
  {
   "cell_type": "markdown",
   "metadata": {},
   "source": [
    "Output the BIC. The best subset chosen according to BIc contains 22 members."
   ]
  },
  {
   "cell_type": "code",
   "execution_count": 37,
   "metadata": {
    "collapsed": true
   },
   "outputs": [],
   "source": [
    "min.bic <- which.min(reg.summary$bic)"
   ]
  },
  {
   "cell_type": "code",
   "execution_count": 38,
   "metadata": {},
   "outputs": [
    {
     "data": {
      "text/html": [
       "22"
      ],
      "text/latex": [
       "22"
      ],
      "text/markdown": [
       "22"
      ],
      "text/plain": [
       "[1] 22"
      ]
     },
     "metadata": {},
     "output_type": "display_data"
    }
   ],
   "source": [
    "min.bic"
   ]
  },
  {
   "cell_type": "markdown",
   "metadata": {},
   "source": [
    "Below we illustrate the best subset chosen by the 4 criteria respectively."
   ]
  },
  {
   "cell_type": "code",
   "execution_count": 41,
   "metadata": {},
   "outputs": [
    {
     "data": {
      "image/png": "[encoded data removed]",
      "text/plain": [
       "plot without title"
      ]
     },
     "metadata": {},
     "output_type": "display_data"
    }
   ],
   "source": [
    "par(mfrow = c(2,2))\n",
    "plot(reg.summary$adjr2, xlab = \"Number of Variables\", ylab = \"Adjusted RSq\", type = \"l\")\n",
    "points(max.adjr2, reg.summary$adjr2[max.adjr2], col = \"red\", cex = 2, pch = 20)\n",
    "plot(reg.summary$cp, xlab = \"Number of Variables\", ylab = \"Cp\", type = \"l\")\n",
    "points(min.cp, reg.summary$cp[min.cp], col = \"red\", cex = 2, pch = 20)\n",
    "plot(reg.summary$bic, xlab = \"Number of Variables\", ylab = \"BIC\", type = \"l\")\n",
    "points(min.bic, reg.summary$bic[min.bic], col = \"red\", cex = 2, pch = 20)"
   ]
  },
  {
   "cell_type": "code",
   "execution_count": 42,
   "metadata": {
    "scrolled": true
   },
   "outputs": [
    {
     "data": {
      "image/png": "[encoded data removed]",
      "text/plain": [
       "plot without title"
      ]
     },
     "metadata": {},
     "output_type": "display_data"
    },
    {
     "data": {
      "image/png": "[encoded data removed]",
      "text/plain": [
       "plot without title"
      ]
     },
     "metadata": {},
     "output_type": "display_data"
    },
    {
     "data": {
      "image/png": "[encoded data removed]",
      "text/plain": [
       "plot without title"
      ]
     },
     "metadata": {},
     "output_type": "display_data"
    },
    {
     "data": {
      "image/png": "[encoded data removed]",
      "text/plain": [
       "plot without title"
      ]
     },
     "metadata": {},
     "output_type": "display_data"
    }
   ],
   "source": [
    "plot(regfit.fwd, scale = \"r2\")\n",
    "plot(regfit.fwd, scale = \"adjr2\")\n",
    "plot(regfit.fwd, scale = \"Cp\")\n",
    "plot(regfit.fwd, scale = \"bic\")"
   ]
  },
  {
   "cell_type": "markdown",
   "metadata": {},
   "source": [
    "Here we choose the subset containing 30 members, since it is flexible enough compared to the 22-member one and it is more efficient in prediction, compared to the 36-member one. The prediction equation's coefficients of the best subset predictors are given below. "
   ]
  },
  {
   "cell_type": "code",
   "execution_count": 43,
   "metadata": {},
   "outputs": [
    {
     "data": {
      "text/html": [
       "<dl class=dl-horizontal>\n",
       "\t<dt>(Intercept)</dt>\n",
       "\t\t<dd>-18.8454202946785</dd>\n",
       "\t<dt>jobblue-collar</dt>\n",
       "\t\t<dd>-0.0124327198101695</dd>\n",
       "\t<dt>jobretired</dt>\n",
       "\t\t<dd>0.0261339748899951</dd>\n",
       "\t<dt>jobservices</dt>\n",
       "\t\t<dd>-0.00762092277528822</dd>\n",
       "\t<dt>jobstudent</dt>\n",
       "\t\t<dd>0.0309155801405337</dd>\n",
       "\t<dt>educationilliterate</dt>\n",
       "\t\t<dd>0.086040795813715</dd>\n",
       "\t<dt>educationuniversity.degree</dt>\n",
       "\t\t<dd>0.00773762803352657</dd>\n",
       "\t<dt>defaultunknown</dt>\n",
       "\t\t<dd>-0.0103218865435522</dd>\n",
       "\t<dt>contacttelephone</dt>\n",
       "\t\t<dd>-0.0480218170610284</dd>\n",
       "\t<dt>monthaug</dt>\n",
       "\t\t<dd>0.118145748358468</dd>\n",
       "\t<dt>monthdec</dt>\n",
       "\t\t<dd>0.0789693060657336</dd>\n",
       "\t<dt>monthjul</dt>\n",
       "\t\t<dd>0.0413919964529865</dd>\n",
       "\t<dt>monthjun</dt>\n",
       "\t\t<dd>-0.0367607842586031</dd>\n",
       "\t<dt>monthmar</dt>\n",
       "\t\t<dd>0.283613260255005</dd>\n",
       "\t<dt>monthmay</dt>\n",
       "\t\t<dd>-0.0311659810280812</dd>\n",
       "\t<dt>monthnov</dt>\n",
       "\t\t<dd>-0.0161585952552886</dd>\n",
       "\t<dt>monthoct</dt>\n",
       "\t\t<dd>0.0219966915243601</dd>\n",
       "\t<dt>monthsep</dt>\n",
       "\t\t<dd>0.0333065038830848</dd>\n",
       "\t<dt>day_of_weekmon</dt>\n",
       "\t\t<dd>-0.0153956110991198</dd>\n",
       "\t<dt>day_of_weekwed</dt>\n",
       "\t\t<dd>0.00528990522737939</dd>\n",
       "\t<dt>duration</dt>\n",
       "\t\t<dd>0.000465912475819817</dd>\n",
       "\t<dt>campaign</dt>\n",
       "\t\t<dd>0.000964132859232285</dd>\n",
       "\t<dt>pdays</dt>\n",
       "\t\t<dd>-0.00016649645400027</dd>\n",
       "\t<dt>previous</dt>\n",
       "\t\t<dd>-0.00912743257653285</dd>\n",
       "\t<dt>poutcomenonexistent</dt>\n",
       "\t\t<dd>0.0354574812347335</dd>\n",
       "\t<dt>poutcomesuccess</dt>\n",
       "\t\t<dd>0.165480913232547</dd>\n",
       "\t<dt>emp.var.rate</dt>\n",
       "\t\t<dd>-0.180921798880447</dd>\n",
       "\t<dt>cons.price.idx</dt>\n",
       "\t\t<dd>0.220984185421533</dd>\n",
       "\t<dt>cons.conf.idx</dt>\n",
       "\t\t<dd>0.00325096671792447</dd>\n",
       "\t<dt>euribor3m</dt>\n",
       "\t\t<dd>0.0679239821548102</dd>\n",
       "\t<dt>nr.employed</dt>\n",
       "\t\t<dd>-0.000156587193877522</dd>\n",
       "</dl>\n"
      ],
      "text/latex": [
       "\\begin{description*}\n",
       "\\item[(Intercept)] -18.8454202946785\n",
       "\\item[jobblue-collar] -0.0124327198101695\n",
       "\\item[jobretired] 0.0261339748899951\n",
       "\\item[jobservices] -0.00762092277528822\n",
       "\\item[jobstudent] 0.0309155801405337\n",
       "\\item[educationilliterate] 0.086040795813715\n",
       "\\item[educationuniversity.degree] 0.00773762803352657\n",
       "\\item[defaultunknown] -0.0103218865435522\n",
       "\\item[contacttelephone] -0.0480218170610284\n",
       "\\item[monthaug] 0.118145748358468\n",
       "\\item[monthdec] 0.0789693060657336\n",
       "\\item[monthjul] 0.0413919964529865\n",
       "\\item[monthjun] -0.0367607842586031\n",
       "\\item[monthmar] 0.283613260255005\n",
       "\\item[monthmay] -0.0311659810280812\n",
       "\\item[monthnov] -0.0161585952552886\n",
       "\\item[monthoct] 0.0219966915243601\n",
       "\\item[monthsep] 0.0333065038830848\n",
       "\\item[day\\textbackslash{}\\_of\\textbackslash{}\\_weekmon] -0.0153956110991198\n",
       "\\item[day\\textbackslash{}\\_of\\textbackslash{}\\_weekwed] 0.00528990522737939\n",
       "\\item[duration] 0.000465912475819817\n",
       "\\item[campaign] 0.000964132859232285\n",
       "\\item[pdays] -0.00016649645400027\n",
       "\\item[previous] -0.00912743257653285\n",
       "\\item[poutcomenonexistent] 0.0354574812347335\n",
       "\\item[poutcomesuccess] 0.165480913232547\n",
       "\\item[emp.var.rate] -0.180921798880447\n",
       "\\item[cons.price.idx] 0.220984185421533\n",
       "\\item[cons.conf.idx] 0.00325096671792447\n",
       "\\item[euribor3m] 0.0679239821548102\n",
       "\\item[nr.employed] -0.000156587193877522\n",
       "\\end{description*}\n"
      ],
      "text/markdown": [
       "(Intercept)\n",
       ":   -18.8454202946785jobblue-collar\n",
       ":   -0.0124327198101695jobretired\n",
       ":   0.0261339748899951jobservices\n",
       ":   -0.00762092277528822jobstudent\n",
       ":   0.0309155801405337educationilliterate\n",
       ":   0.086040795813715educationuniversity.degree\n",
       ":   0.00773762803352657defaultunknown\n",
       ":   -0.0103218865435522contacttelephone\n",
       ":   -0.0480218170610284monthaug\n",
       ":   0.118145748358468monthdec\n",
       ":   0.0789693060657336monthjul\n",
       ":   0.0413919964529865monthjun\n",
       ":   -0.0367607842586031monthmar\n",
       ":   0.283613260255005monthmay\n",
       ":   -0.0311659810280812monthnov\n",
       ":   -0.0161585952552886monthoct\n",
       ":   0.0219966915243601monthsep\n",
       ":   0.0333065038830848day_of_weekmon\n",
       ":   -0.0153956110991198day_of_weekwed\n",
       ":   0.00528990522737939duration\n",
       ":   0.000465912475819817campaign\n",
       ":   0.000964132859232285pdays\n",
       ":   -0.00016649645400027previous\n",
       ":   -0.00912743257653285poutcomenonexistent\n",
       ":   0.0354574812347335poutcomesuccess\n",
       ":   0.165480913232547emp.var.rate\n",
       ":   -0.180921798880447cons.price.idx\n",
       ":   0.220984185421533cons.conf.idx\n",
       ":   0.00325096671792447euribor3m\n",
       ":   0.0679239821548102nr.employed\n",
       ":   -0.000156587193877522\n",
       "\n"
      ],
      "text/plain": [
       "               (Intercept)             jobblue-collar \n",
       "             -1.884542e+01              -1.243272e-02 \n",
       "                jobretired                jobservices \n",
       "              2.613397e-02              -7.620923e-03 \n",
       "                jobstudent        educationilliterate \n",
       "              3.091558e-02               8.604080e-02 \n",
       "educationuniversity.degree             defaultunknown \n",
       "              7.737628e-03              -1.032189e-02 \n",
       "          contacttelephone                   monthaug \n",
       "             -4.802182e-02               1.181457e-01 \n",
       "                  monthdec                   monthjul \n",
       "              7.896931e-02               4.139200e-02 \n",
       "                  monthjun                   monthmar \n",
       "             -3.676078e-02               2.836133e-01 \n",
       "                  monthmay                   monthnov \n",
       "             -3.116598e-02              -1.615860e-02 \n",
       "                  monthoct                   monthsep \n",
       "              2.199669e-02               3.330650e-02 \n",
       "            day_of_weekmon             day_of_weekwed \n",
       "             -1.539561e-02               5.289905e-03 \n",
       "                  duration                   campaign \n",
       "              4.659125e-04               9.641329e-04 \n",
       "                     pdays                   previous \n",
       "             -1.664965e-04              -9.127433e-03 \n",
       "       poutcomenonexistent            poutcomesuccess \n",
       "              3.545748e-02               1.654809e-01 \n",
       "              emp.var.rate             cons.price.idx \n",
       "             -1.809218e-01               2.209842e-01 \n",
       "             cons.conf.idx                  euribor3m \n",
       "              3.250967e-03               6.792398e-02 \n",
       "               nr.employed \n",
       "             -1.565872e-04 "
      ]
     },
     "metadata": {},
     "output_type": "display_data"
    }
   ],
   "source": [
    "coef(regfit.fwd, 30)"
   ]
  },
  {
   "cell_type": "markdown",
   "metadata": {},
   "source": [
    "**Step 2: do logistic regression.**"
   ]
  },
  {
   "cell_type": "code",
   "execution_count": 44,
   "metadata": {
    "collapsed": true
   },
   "outputs": [],
   "source": [
    "logisticMod <- glm(y ~ job + education + default + contact + month + day_of_week + duration\n",
    "                + campaign + pdays + previous + poutcome + emp.var.rate + cons.price.idx\n",
    "                + cons.conf.idx + euribor3m + nr.employed, data = bank.full,\n",
    "               family = binomial)"
   ]
  },
  {
   "cell_type": "markdown",
   "metadata": {},
   "source": [
    "The output is summarized below. We see that only part of the features are significantly (marked in *) explaining the CD purchase behavior."
   ]
  },
  {
   "cell_type": "code",
   "execution_count": 45,
   "metadata": {
    "scrolled": false
   },
   "outputs": [
    {
     "data": {
      "text/plain": [
       "\n",
       "Call:\n",
       "glm(formula = y ~ job + education + default + contact + month + \n",
       "    day_of_week + duration + campaign + pdays + previous + poutcome + \n",
       "    emp.var.rate + cons.price.idx + cons.conf.idx + euribor3m + \n",
       "    nr.employed, family = binomial, data = bank.full)\n",
       "\n",
       "Deviance Residuals: \n",
       "    Min       1Q   Median       3Q      Max  \n",
       "-5.9943  -0.2982  -0.1855  -0.1344   3.3668  \n",
       "\n",
       "Coefficients:\n",
       "                               Estimate Std. Error z value Pr(>|z|)    \n",
       "(Intercept)                  -2.369e+02  3.827e+01  -6.190 6.03e-10 ***\n",
       "jobblue-collar               -2.368e-01  7.965e-02  -2.973 0.002949 ** \n",
       "jobentrepreneur              -1.872e-01  1.254e-01  -1.493 0.135440    \n",
       "jobhousemaid                 -2.898e-02  1.468e-01  -0.197 0.843481    \n",
       "jobmanagement                -6.791e-02  8.440e-02  -0.805 0.421055    \n",
       "jobretired                    2.761e-01  9.150e-02   3.018 0.002549 ** \n",
       "jobself-employed             -1.597e-01  1.178e-01  -1.356 0.175065    \n",
       "jobservices                  -1.405e-01  8.603e-02  -1.633 0.102473    \n",
       "jobstudent                    2.348e-01  1.053e-01   2.231 0.025707 *  \n",
       "jobtechnician                -1.220e-02  7.110e-02  -0.172 0.863714    \n",
       "jobunemployed                 1.946e-02  1.278e-01   0.152 0.878979    \n",
       "jobunknown                   -6.811e-02  2.376e-01  -0.287 0.774423    \n",
       "educationbasic.6y             1.221e-01  1.200e-01   1.017 0.309230    \n",
       "educationbasic.9y             1.376e-03  9.461e-02   0.015 0.988399    \n",
       "educationhigh.school          5.613e-02  9.082e-02   0.618 0.536517    \n",
       "educationilliterate           1.068e+00  7.558e-01   1.413 0.157567    \n",
       "educationprofessional.course  1.185e-01  1.007e-01   1.177 0.239163    \n",
       "educationuniversity.degree    2.069e-01  9.048e-02   2.286 0.022245 *  \n",
       "educationunknown              1.548e-01  1.194e-01   1.296 0.194819    \n",
       "defaultunknown               -3.029e-01  6.694e-02  -4.525 6.05e-06 ***\n",
       "defaultyes                   -7.303e+00  1.134e+02  -0.064 0.948673    \n",
       "contacttelephone             -6.460e-01  7.685e-02  -8.406  < 2e-16 ***\n",
       "monthaug                      8.662e-01  1.206e-01   7.185 6.74e-13 ***\n",
       "monthdec                      3.121e-01  2.091e-01   1.493 0.135418    \n",
       "monthjul                      1.390e-01  9.606e-02   1.447 0.147886    \n",
       "monthjun                     -5.217e-01  1.259e-01  -4.144 3.42e-05 ***\n",
       "monthmar                      2.022e+00  1.442e-01  14.015  < 2e-16 ***\n",
       "monthmay                     -4.425e-01  8.253e-02  -5.361 8.26e-08 ***\n",
       "monthnov                     -4.169e-01  1.210e-01  -3.446 0.000569 ***\n",
       "monthoct                      1.972e-01  1.537e-01   1.283 0.199505    \n",
       "monthsep                      3.738e-01  1.795e-01   2.083 0.037251 *  \n",
       "day_of_weekmon               -1.172e-01  6.610e-02  -1.773 0.076223 .  \n",
       "day_of_weekthu                5.579e-02  6.407e-02   0.871 0.383840    \n",
       "day_of_weektue                9.639e-02  6.584e-02   1.464 0.143209    \n",
       "day_of_weekwed                1.746e-01  6.566e-02   2.659 0.007832 ** \n",
       "duration                      4.706e-03  7.457e-05  63.112  < 2e-16 ***\n",
       "campaign                     -4.044e-02  1.156e-02  -3.497 0.000470 ***\n",
       "pdays                        -9.353e-04  2.172e-04  -4.307 1.65e-05 ***\n",
       "previous                     -6.299e-02  5.913e-02  -1.065 0.286756    \n",
       "poutcomenonexistent           4.274e-01  9.422e-02   4.537 5.72e-06 ***\n",
       "poutcomesuccess               9.642e-01  2.116e-01   4.557 5.19e-06 ***\n",
       "emp.var.rate                 -1.759e+00  1.419e-01 -12.395  < 2e-16 ***\n",
       "cons.price.idx                2.192e+00  2.521e-01   8.698  < 2e-16 ***\n",
       "cons.conf.idx                 2.068e-02  7.746e-03   2.670 0.007591 ** \n",
       "euribor3m                     3.301e-01  1.299e-01   2.541 0.011046 *  \n",
       "nr.employed                   5.430e-03  3.112e-03   1.745 0.081063 .  \n",
       "---\n",
       "Signif. codes:  0 '***' 0.001 '**' 0.01 '*' 0.05 '.' 0.1 ' ' 1\n",
       "\n",
       "(Dispersion parameter for binomial family taken to be 1)\n",
       "\n",
       "    Null deviance: 28999  on 41187  degrees of freedom\n",
       "Residual deviance: 17080  on 41142  degrees of freedom\n",
       "AIC: 17172\n",
       "\n",
       "Number of Fisher Scoring iterations: 10\n"
      ]
     },
     "metadata": {},
     "output_type": "display_data"
    }
   ],
   "source": [
    "summary(logisticMod)"
   ]
  },
  {
   "cell_type": "markdown",
   "metadata": {},
   "source": [
    "**Conclusion:** A customer is more likely to buy a CD if his or her:\n",
    "* type of job is \"retired\" or \"student\",\n",
    "* educaiton is \"university degree\",\n",
    "* last contact month of year is March, August or September,\n",
    "* last contact day of the week is Wednesday,\n",
    "* number of contacts performed during this campaign is relatively small,\n",
    "* outcome of the previous marketing campaign is \"success\" or \"nonexistent\", \n",
    "* employment variation rate is relatively small,\n",
    "* consumer price index is relatively high,\n",
    "* consumer confidence indes is relatively high,\n",
    "* euribor 3 month rate is relatively high."
   ]
  },
  {
   "cell_type": "markdown",
   "metadata": {},
   "source": [
    "Below we test our logistic regression model on the test dataset. A confusion matrix is given to tell the prediction performance of the model."
   ]
  },
  {
   "cell_type": "code",
   "execution_count": 48,
   "metadata": {
    "collapsed": true,
    "scrolled": true
   },
   "outputs": [],
   "source": [
    "pred_logistic <- round(predict(logisticMod, bank, type = \"response\"))"
   ]
  },
  {
   "cell_type": "code",
   "execution_count": 49,
   "metadata": {
    "scrolled": true
   },
   "outputs": [
    {
     "data": {
      "text/plain": [
       "             \n",
       "pred_logistic   no  yes\n",
       "            0 3570  258\n",
       "            1   98  193"
      ]
     },
     "metadata": {},
     "output_type": "display_data"
    }
   ],
   "source": [
    "table(pred_logistic, bank$y)"
   ]
  },
  {
   "cell_type": "markdown",
   "metadata": {},
   "source": [
    "Conclusion: the logistic regression predicts correctly most of the \"no\" but less than half of the \"yes\". This reveals the facts that most of the training responses are \"no\", and the logistic regression model is not satisfactory in this case. Next step we try support vector machines approaches, that are more flexible than logistic regression."
   ]
  },
  {
   "cell_type": "markdown",
   "metadata": {},
   "source": [
    "## Question 3 : Build several predictive classifiers using different types of machine learning models/algorithms\n",
    "\n",
    "Use support vector machines to predict CD purchase behavior.\n",
    "\n",
    "We first prepare our training dataset to be able to run the svm() function in R."
   ]
  },
  {
   "cell_type": "code",
   "execution_count": 50,
   "metadata": {
    "collapsed": true
   },
   "outputs": [],
   "source": [
    "xTrain <- bank.full[c(2, 4, 5, 8, 9, 10, 11, 12, 13, 14, 15, 16, 17, 18, 19, 20)]"
   ]
  },
  {
   "cell_type": "code",
   "execution_count": 55,
   "metadata": {
    "collapsed": true
   },
   "outputs": [],
   "source": [
    "xTrain <- data.matrix(xTrain, rownames.force = NA)"
   ]
  },
  {
   "cell_type": "code",
   "execution_count": 56,
   "metadata": {
    "collapsed": true
   },
   "outputs": [],
   "source": [
    "yTrain <- bank.full[dim(bank.full)[2]]"
   ]
  },
  {
   "cell_type": "code",
   "execution_count": 57,
   "metadata": {
    "collapsed": true
   },
   "outputs": [],
   "source": [
    "n <- dim(yTrain)[1]"
   ]
  },
  {
   "cell_type": "code",
   "execution_count": 58,
   "metadata": {
    "collapsed": true
   },
   "outputs": [],
   "source": [
    "yTrain <- (yTrain[,1] == \"yes\")"
   ]
  },
  {
   "cell_type": "code",
   "execution_count": 59,
   "metadata": {
    "collapsed": true
   },
   "outputs": [],
   "source": [
    "for(i in 1: n){\n",
    "    if (yTrain[i] == TRUE){\n",
    "        yTrain[i] = 1}\n",
    "    else{yTrain[i] = -1}\n",
    "}"
   ]
  },
  {
   "cell_type": "code",
   "execution_count": 60,
   "metadata": {
    "collapsed": true
   },
   "outputs": [],
   "source": [
    "datTrain <- data.frame(X = xTrain, Y = as.factor(yTrain))"
   ]
  },
  {
   "cell_type": "markdown",
   "metadata": {},
   "source": [
    "The package \"e1071\" is needed to index the function svm(). "
   ]
  },
  {
   "cell_type": "code",
   "execution_count": 61,
   "metadata": {},
   "outputs": [
    {
     "name": "stderr",
     "output_type": "stream",
     "text": [
      "Warning message:\n",
      "\"package 'e1071' was built under R version 3.4.3\""
     ]
    }
   ],
   "source": [
    "library(e1071)"
   ]
  },
  {
   "cell_type": "markdown",
   "metadata": {},
   "source": [
    "We first try to run svm with linear kenel. Note that it is equivalent to logistic regression so the performance (see the confusion table below) is unsurprisingly similar to that of logistic regression."
   ]
  },
  {
   "cell_type": "code",
   "execution_count": 62,
   "metadata": {
    "collapsed": true
   },
   "outputs": [],
   "source": [
    "svmfit_linear <- svm (Y~., data = datTrain, kernel = \"linear\", cost = 10, scale = FALSE)"
   ]
  },
  {
   "cell_type": "code",
   "execution_count": 63,
   "metadata": {},
   "outputs": [
    {
     "data": {
      "text/plain": [
       "\n",
       "Call:\n",
       "svm(formula = Y ~ ., data = datTrain, kernel = \"linear\", cost = 10, \n",
       "    scale = FALSE)\n",
       "\n",
       "\n",
       "Parameters:\n",
       "   SVM-Type:  C-classification \n",
       " SVM-Kernel:  linear \n",
       "       cost:  10 \n",
       "      gamma:  0.0625 \n",
       "\n",
       "Number of Support Vectors:  5185\n",
       "\n",
       " ( 2593 2592 )\n",
       "\n",
       "\n",
       "Number of Classes:  2 \n",
       "\n",
       "Levels: \n",
       " -1 1\n",
       "\n",
       "\n"
      ]
     },
     "metadata": {},
     "output_type": "display_data"
    }
   ],
   "source": [
    "summary(svmfit_linear)"
   ]
  },
  {
   "cell_type": "code",
   "execution_count": 64,
   "metadata": {
    "collapsed": true
   },
   "outputs": [],
   "source": [
    "xTest <- bank[c(2, 4, 5, 8, 9, 10, 11, 12, 13, 14, 15, 16, 17, 18, 19, 20)]"
   ]
  },
  {
   "cell_type": "code",
   "execution_count": 65,
   "metadata": {
    "collapsed": true
   },
   "outputs": [],
   "source": [
    "xTest <- data.matrix(xTest, rownames.force = NA)"
   ]
  },
  {
   "cell_type": "code",
   "execution_count": 66,
   "metadata": {
    "collapsed": true
   },
   "outputs": [],
   "source": [
    "yTest <- bank[dim(bank)[2]]"
   ]
  },
  {
   "cell_type": "code",
   "execution_count": 67,
   "metadata": {
    "collapsed": true
   },
   "outputs": [],
   "source": [
    "n <- dim(yTest)[1]"
   ]
  },
  {
   "cell_type": "code",
   "execution_count": null,
   "metadata": {},
   "outputs": [],
   "source": [
    "yTest <- (yTest[,1] == \"yes\")"
   ]
  },
  {
   "cell_type": "code",
   "execution_count": null,
   "metadata": {
    "collapsed": true
   },
   "outputs": [],
   "source": [
    "for(i in 1: n){\n",
    "    if (yTest[i] == TRUE){\n",
    "        yTest[i] = 1}\n",
    "    else{yTest[i] = -1}\n",
    "}"
   ]
  },
  {
   "cell_type": "code",
   "execution_count": null,
   "metadata": {
    "collapsed": true
   },
   "outputs": [],
   "source": [
    "datTest <- data.frame(X = xTest, Y = as.factor(yTest))"
   ]
  },
  {
   "cell_type": "code",
   "execution_count": null,
   "metadata": {
    "collapsed": true
   },
   "outputs": [],
   "source": [
    "yPred_linear <- predict(svmfit_linear, datTest)"
   ]
  },
  {
   "cell_type": "code",
   "execution_count": null,
   "metadata": {},
   "outputs": [],
   "source": [
    "table(predict = yPred_linear, truth = datTest$Y)"
   ]
  },
  {
   "cell_type": "markdown",
   "metadata": {},
   "source": [
    "Next we try the svm with polynomial kernel. we see from the confusion matrix below that it is not better than the linear kernel svm."
   ]
  },
  {
   "cell_type": "code",
   "execution_count": 493,
   "metadata": {
    "collapsed": true
   },
   "outputs": [],
   "source": [
    "svmfit_polynomial <- svm (Y~., data = datTrain, kernel = \"polynomial\", cost = 10, scale = FALSE)"
   ]
  },
  {
   "cell_type": "code",
   "execution_count": 494,
   "metadata": {
    "collapsed": true
   },
   "outputs": [],
   "source": [
    "yPred_polynomial <- predict(svmfit_polynomial, datTest)"
   ]
  },
  {
   "cell_type": "code",
   "execution_count": 495,
   "metadata": {},
   "outputs": [
    {
     "data": {
      "text/plain": [
       "       truth\n",
       "predict   -1    1\n",
       "     -1 3599  297\n",
       "     1    69  154"
      ]
     },
     "metadata": {},
     "output_type": "display_data"
    }
   ],
   "source": [
    "table(predict = yPred_poly, truth = datTest$Y)"
   ]
  },
  {
   "cell_type": "markdown",
   "metadata": {},
   "source": [
    "The sigmoid kernel svm below is even worse."
   ]
  },
  {
   "cell_type": "code",
   "execution_count": 496,
   "metadata": {
    "collapsed": true
   },
   "outputs": [],
   "source": [
    "svmfit_sigmoid <- svm (Y~., data = datTrain, kernel = \"sigmoid\", cost = 10, scale = FALSE)"
   ]
  },
  {
   "cell_type": "code",
   "execution_count": 497,
   "metadata": {
    "collapsed": true
   },
   "outputs": [],
   "source": [
    "yPred_sigmoid <- predict(svmfit_sigmoid, datTest)"
   ]
  },
  {
   "cell_type": "code",
   "execution_count": 498,
   "metadata": {},
   "outputs": [
    {
     "data": {
      "text/plain": [
       "       truth\n",
       "predict   -1    1\n",
       "     -1 3668  451\n",
       "     1     0    0"
      ]
     },
     "metadata": {},
     "output_type": "display_data"
    }
   ],
   "source": [
    "table(predict = yPred_sigmoid, truth = datTest$Y)"
   ]
  },
  {
   "cell_type": "markdown",
   "metadata": {},
   "source": [
    "Finally we found that the radial kernel svm below has a great performance: it has misclassified 2 points only."
   ]
  },
  {
   "cell_type": "code",
   "execution_count": 499,
   "metadata": {
    "collapsed": true
   },
   "outputs": [],
   "source": [
    "svmfit_radial <- svm (Y~., data = datTrain, kernel = \"radial\", cost = 10, scale = FALSE)"
   ]
  },
  {
   "cell_type": "code",
   "execution_count": 500,
   "metadata": {
    "collapsed": true
   },
   "outputs": [],
   "source": [
    "yPred_radial <- predict(svmfit_radial, datTest)"
   ]
  },
  {
   "cell_type": "code",
   "execution_count": 501,
   "metadata": {},
   "outputs": [
    {
     "data": {
      "text/plain": [
       "       truth\n",
       "predict   -1    1\n",
       "     -1 3667    1\n",
       "     1     1  450"
      ]
     },
     "metadata": {},
     "output_type": "display_data"
    }
   ],
   "source": [
    "table(predict = yPred_radial, truth = datTest$Y)"
   ]
  },
  {
   "cell_type": "markdown",
   "metadata": {},
   "source": [
    "Conclusion: we believe that the support vector machines with radial kernel is the most promising model among logistic regression, svm with linear, polynomial, sigmoid and radial kernels."
   ]
  },
  {
   "cell_type": "markdown",
   "metadata": {},
   "source": [
    "Question 4: use the cross-validation to select the best model.\n",
    "\n",
    "Note that in the above tests, we have set the tunning parameter \"cost\" to be a constant 10. It is possible to use the K-fold cross-validation approach to determine the best \"cost\" value in the svm with radial kernel. To this end we use the following codes."
   ]
  },
  {
   "cell_type": "code",
   "execution_count": 70,
   "metadata": {
    "collapsed": true
   },
   "outputs": [],
   "source": [
    "set.seed(1)"
   ]
  },
  {
   "cell_type": "code",
   "execution_count": null,
   "metadata": {},
   "outputs": [],
   "source": [
    "tune.out <- tune(svm, Y~., data = datTrain, kernel = \"radial\", \n",
    "                 ranges = list(cost = c(.1, 1, 10 ,100, 100), gamma = c(.5, 1, 2, 3, 4)))"
   ]
  },
  {
   "cell_type": "code",
   "execution_count": null,
   "metadata": {},
   "outputs": [],
   "source": [
    "summary(tune.out)"
   ]
  }
 ],
 "metadata": {
  "kernelspec": {
   "display_name": "R",
   "language": "R",
   "name": "ir"
  },
  "language_info": {
   "codemirror_mode": "r",
   "file_extension": ".r",
   "mimetype": "text/x-r-source",
   "name": "R",
   "pygments_lexer": "r",
   "version": "3.4.2"
  }
 },
 "nbformat": 4,
 "nbformat_minor": 2
}
